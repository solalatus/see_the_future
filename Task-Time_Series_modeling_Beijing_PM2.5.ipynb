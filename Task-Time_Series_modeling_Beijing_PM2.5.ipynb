{
 "cells": [
  {
   "cell_type": "markdown",
   "metadata": {},
   "source": [
    "# Modeling air pollution\n",
    "\n",
    "Let us try to predict Beijing's air pollution, especially [PM2.5](https://en.wikipedia.org/wiki/Particulates) values in advance!\n",
    "\n",
    "\n",
    "Inspiration comes from [here](https://machinelearningmastery.com/multivariate-time-series-forecasting-lstms-keras/).\n",
    "\n",
    "## Dataset\n",
    "\n",
    "[Beijing PM2.5 Data Data Set](https://archive.ics.uci.edu/ml/datasets/Beijing+PM2.5+Data)\n",
    "\n",
    "### Columns of the dataset:\n",
    "\n",
    "**No:** row number\n",
    "\n",
    "**year:** year of data in this row\n",
    "\n",
    "**month:** month of data in this row\n",
    "\n",
    "**day:** day of data in this row\n",
    "\n",
    "**hour:** hour of data in this row\n",
    "\n",
    "**pm2.5:** PM2.5 concentration\n",
    "\n",
    "**DEWP:** Dew Point\n",
    "\n",
    "**TEMP:** Temperature\n",
    "\n",
    "**PRES:** Pressure\n",
    "\n",
    "**cbwd:** Combined wind direction\n",
    "\n",
    "**Iws:** Cumulated wind speed\n",
    "\n",
    "**Is:** Cumulated hours of snow\n",
    "\n",
    "**Ir:** Cumulated hours of rain"
   ]
  },
  {
   "cell_type": "code",
   "execution_count": 1,
   "metadata": {
    "ExecuteTime": {
     "end_time": "2019-05-02T06:10:11.249973Z",
     "start_time": "2019-05-02T06:10:10.635735Z"
    }
   },
   "outputs": [
    {
     "name": "stdout",
     "output_type": "stream",
     "text": [
      "--2023-05-14 14:07:42--  https://raw.githubusercontent.com/jbrownlee/Datasets/master/pollution.csv\n",
      "Resolving raw.githubusercontent.com (raw.githubusercontent.com)... 185.199.109.133, 185.199.108.133, 185.199.111.133, ...\n",
      "Connecting to raw.githubusercontent.com (raw.githubusercontent.com)|185.199.109.133|:443... connected.\n",
      "HTTP request sent, awaiting response... 200 OK\n",
      "Length: 2010492 (1,9M) [text/plain]\n",
      "Saving to: ‘pollution.csv’\n",
      "\n",
      "pollution.csv       100%[===================>]   1,92M  2,66MB/s    in 0,7s    \n",
      "\n",
      "2023-05-14 14:07:43 (2,66 MB/s) - ‘pollution.csv’ saved [2010492/2010492]\n",
      "\n"
     ]
    }
   ],
   "source": [
    "!wget https://raw.githubusercontent.com/jbrownlee/Datasets/master/pollution.csv"
   ]
  },
  {
   "cell_type": "code",
   "execution_count": 2,
   "metadata": {
    "ExecuteTime": {
     "end_time": "2019-05-02T06:10:13.431328Z",
     "start_time": "2019-05-02T06:10:11.256909Z"
    }
   },
   "outputs": [
    {
     "name": "stdout",
     "output_type": "stream",
     "text": [
      "Requirement already satisfied: seglearn in /home/alatus/anaconda3/envs/10_days_AI/lib/python3.8/site-packages (1.2.5)\n",
      "Requirement already satisfied: numpy in /home/alatus/anaconda3/envs/10_days_AI/lib/python3.8/site-packages (from seglearn) (1.21.5)\n",
      "Requirement already satisfied: scipy in /home/alatus/anaconda3/envs/10_days_AI/lib/python3.8/site-packages (from seglearn) (1.7.1)\n",
      "Requirement already satisfied: scikit-learn>=0.21.3 in /home/alatus/anaconda3/envs/10_days_AI/lib/python3.8/site-packages (from seglearn) (1.1.3)\n",
      "Requirement already satisfied: threadpoolctl>=2.0.0 in /home/alatus/anaconda3/envs/10_days_AI/lib/python3.8/site-packages (from scikit-learn>=0.21.3->seglearn) (2.2.0)\n",
      "Requirement already satisfied: joblib>=1.0.0 in /home/alatus/anaconda3/envs/10_days_AI/lib/python3.8/site-packages (from scikit-learn>=0.21.3->seglearn) (1.1.0)\n"
     ]
    }
   ],
   "source": [
    "!pip install seglearn"
   ]
  },
  {
   "cell_type": "code",
   "execution_count": 3,
   "metadata": {
    "ExecuteTime": {
     "end_time": "2019-05-02T06:10:13.687821Z",
     "start_time": "2019-05-02T06:10:13.438084Z"
    }
   },
   "outputs": [],
   "source": [
    "import pandas as pd \n",
    "import csv\n",
    "import numpy as np \n",
    "import matplotlib.pyplot as plt\n",
    "\n",
    "#import warnings\n",
    "#warnings.filterwarnings(\"ignore\")\n"
   ]
  },
  {
   "cell_type": "code",
   "execution_count": 4,
   "metadata": {
    "ExecuteTime": {
     "end_time": "2019-05-02T06:10:13.698845Z",
     "start_time": "2019-05-02T06:10:13.690322Z"
    }
   },
   "outputs": [],
   "source": [
    "def sniff_format(location):\n",
    "    with open(location, newline='') as csvfile:\n",
    "        sniffer = csv.Sniffer()\n",
    "        sample = csvfile.read(1024)\n",
    "        dialect = sniffer.sniff(sample)\n",
    "        header = sniffer.has_header(sample)\n",
    "        if header:\n",
    "            header=0\n",
    "        else:\n",
    "            header=None\n",
    "\n",
    "    return {\"dialect\":dialect, \"header\":header}\n",
    "\n",
    "def describe_full(df):\n",
    "    #pd.options.display.float_format = '{:.2f}'.format\n",
    "    dtypes_description=pd.DataFrame(dict(df.dtypes),[\"dtypes\"])\n",
    "    na_description = pd.DataFrame(dict(df.isna().sum()),[\"NA-s\"])\n",
    "    na_percent = ((pd.DataFrame(dict(df.isna().sum()),[\"NA%\"])/len(df))*100).round(decimals=2)\n",
    "    description = df.describe(include='all')\n",
    "    full_description = dtypes_description.append(na_description).append(na_percent).append(description).replace(np.nan, '', regex=True)\n",
    "\n",
    "    mask = full_description.loc[\"freq\",:]==1\n",
    "    full_description.at[[\"top\"],mask.index[mask]]=\"\"\n",
    "    #TODO: scientific notation - could be nicer\n",
    "    \n",
    "    return full_description"
   ]
  },
  {
   "cell_type": "code",
   "execution_count": 5,
   "metadata": {
    "ExecuteTime": {
     "end_time": "2019-05-02T06:10:14.015860Z",
     "start_time": "2019-05-02T06:10:13.702307Z"
    }
   },
   "outputs": [
    {
     "data": {
      "text/html": [
       "<div>\n",
       "<style scoped>\n",
       "    .dataframe tbody tr th:only-of-type {\n",
       "        vertical-align: middle;\n",
       "    }\n",
       "\n",
       "    .dataframe tbody tr th {\n",
       "        vertical-align: top;\n",
       "    }\n",
       "\n",
       "    .dataframe thead th {\n",
       "        text-align: right;\n",
       "    }\n",
       "</style>\n",
       "<table border=\"1\" class=\"dataframe\">\n",
       "  <thead>\n",
       "    <tr style=\"text-align: right;\">\n",
       "      <th></th>\n",
       "      <th>No</th>\n",
       "      <th>year</th>\n",
       "      <th>month</th>\n",
       "      <th>day</th>\n",
       "      <th>hour</th>\n",
       "      <th>pm2.5</th>\n",
       "      <th>DEWP</th>\n",
       "      <th>TEMP</th>\n",
       "      <th>PRES</th>\n",
       "      <th>cbwd</th>\n",
       "      <th>Iws</th>\n",
       "      <th>Is</th>\n",
       "      <th>Ir</th>\n",
       "    </tr>\n",
       "  </thead>\n",
       "  <tbody>\n",
       "    <tr>\n",
       "      <th>dtypes</th>\n",
       "      <td>int64</td>\n",
       "      <td>int64</td>\n",
       "      <td>int64</td>\n",
       "      <td>int64</td>\n",
       "      <td>int64</td>\n",
       "      <td>float64</td>\n",
       "      <td>int64</td>\n",
       "      <td>float64</td>\n",
       "      <td>float64</td>\n",
       "      <td>object</td>\n",
       "      <td>float64</td>\n",
       "      <td>int64</td>\n",
       "      <td>int64</td>\n",
       "    </tr>\n",
       "    <tr>\n",
       "      <th>NA-s</th>\n",
       "      <td>0</td>\n",
       "      <td>0</td>\n",
       "      <td>0</td>\n",
       "      <td>0</td>\n",
       "      <td>0</td>\n",
       "      <td>2067</td>\n",
       "      <td>0</td>\n",
       "      <td>0</td>\n",
       "      <td>0</td>\n",
       "      <td>0</td>\n",
       "      <td>0</td>\n",
       "      <td>0</td>\n",
       "      <td>0</td>\n",
       "    </tr>\n",
       "    <tr>\n",
       "      <th>NA%</th>\n",
       "      <td>0.0</td>\n",
       "      <td>0.0</td>\n",
       "      <td>0.0</td>\n",
       "      <td>0.0</td>\n",
       "      <td>0.0</td>\n",
       "      <td>4.72</td>\n",
       "      <td>0.0</td>\n",
       "      <td>0.0</td>\n",
       "      <td>0.0</td>\n",
       "      <td>0.0</td>\n",
       "      <td>0.0</td>\n",
       "      <td>0.0</td>\n",
       "      <td>0.0</td>\n",
       "    </tr>\n",
       "    <tr>\n",
       "      <th>count</th>\n",
       "      <td>43824.0</td>\n",
       "      <td>43824.0</td>\n",
       "      <td>43824.0</td>\n",
       "      <td>43824.0</td>\n",
       "      <td>43824.0</td>\n",
       "      <td>41757.0</td>\n",
       "      <td>43824.0</td>\n",
       "      <td>43824.0</td>\n",
       "      <td>43824.0</td>\n",
       "      <td>43824</td>\n",
       "      <td>43824.0</td>\n",
       "      <td>43824.0</td>\n",
       "      <td>43824.0</td>\n",
       "    </tr>\n",
       "    <tr>\n",
       "      <th>unique</th>\n",
       "      <td></td>\n",
       "      <td></td>\n",
       "      <td></td>\n",
       "      <td></td>\n",
       "      <td></td>\n",
       "      <td></td>\n",
       "      <td></td>\n",
       "      <td></td>\n",
       "      <td></td>\n",
       "      <td>4</td>\n",
       "      <td></td>\n",
       "      <td></td>\n",
       "      <td></td>\n",
       "    </tr>\n",
       "    <tr>\n",
       "      <th>top</th>\n",
       "      <td></td>\n",
       "      <td></td>\n",
       "      <td></td>\n",
       "      <td></td>\n",
       "      <td></td>\n",
       "      <td></td>\n",
       "      <td></td>\n",
       "      <td></td>\n",
       "      <td></td>\n",
       "      <td>SE</td>\n",
       "      <td></td>\n",
       "      <td></td>\n",
       "      <td></td>\n",
       "    </tr>\n",
       "    <tr>\n",
       "      <th>freq</th>\n",
       "      <td></td>\n",
       "      <td></td>\n",
       "      <td></td>\n",
       "      <td></td>\n",
       "      <td></td>\n",
       "      <td></td>\n",
       "      <td></td>\n",
       "      <td></td>\n",
       "      <td></td>\n",
       "      <td>15290</td>\n",
       "      <td></td>\n",
       "      <td></td>\n",
       "      <td></td>\n",
       "    </tr>\n",
       "    <tr>\n",
       "      <th>mean</th>\n",
       "      <td>21912.5</td>\n",
       "      <td>2012.0</td>\n",
       "      <td>6.523549</td>\n",
       "      <td>15.72782</td>\n",
       "      <td>11.5</td>\n",
       "      <td>98.613215</td>\n",
       "      <td>1.817246</td>\n",
       "      <td>12.448521</td>\n",
       "      <td>1016.447654</td>\n",
       "      <td></td>\n",
       "      <td>23.88914</td>\n",
       "      <td>0.052734</td>\n",
       "      <td>0.194916</td>\n",
       "    </tr>\n",
       "    <tr>\n",
       "      <th>std</th>\n",
       "      <td>12651.043435</td>\n",
       "      <td>1.413842</td>\n",
       "      <td>3.448572</td>\n",
       "      <td>8.799425</td>\n",
       "      <td>6.922266</td>\n",
       "      <td>92.050387</td>\n",
       "      <td>14.43344</td>\n",
       "      <td>12.198613</td>\n",
       "      <td>10.268698</td>\n",
       "      <td></td>\n",
       "      <td>50.010635</td>\n",
       "      <td>0.760375</td>\n",
       "      <td>1.415867</td>\n",
       "    </tr>\n",
       "    <tr>\n",
       "      <th>min</th>\n",
       "      <td>1.0</td>\n",
       "      <td>2010.0</td>\n",
       "      <td>1.0</td>\n",
       "      <td>1.0</td>\n",
       "      <td>0.0</td>\n",
       "      <td>0.0</td>\n",
       "      <td>-40.0</td>\n",
       "      <td>-19.0</td>\n",
       "      <td>991.0</td>\n",
       "      <td></td>\n",
       "      <td>0.45</td>\n",
       "      <td>0.0</td>\n",
       "      <td>0.0</td>\n",
       "    </tr>\n",
       "    <tr>\n",
       "      <th>25%</th>\n",
       "      <td>10956.75</td>\n",
       "      <td>2011.0</td>\n",
       "      <td>4.0</td>\n",
       "      <td>8.0</td>\n",
       "      <td>5.75</td>\n",
       "      <td>29.0</td>\n",
       "      <td>-10.0</td>\n",
       "      <td>2.0</td>\n",
       "      <td>1008.0</td>\n",
       "      <td></td>\n",
       "      <td>1.79</td>\n",
       "      <td>0.0</td>\n",
       "      <td>0.0</td>\n",
       "    </tr>\n",
       "    <tr>\n",
       "      <th>50%</th>\n",
       "      <td>21912.5</td>\n",
       "      <td>2012.0</td>\n",
       "      <td>7.0</td>\n",
       "      <td>16.0</td>\n",
       "      <td>11.5</td>\n",
       "      <td>72.0</td>\n",
       "      <td>2.0</td>\n",
       "      <td>14.0</td>\n",
       "      <td>1016.0</td>\n",
       "      <td></td>\n",
       "      <td>5.37</td>\n",
       "      <td>0.0</td>\n",
       "      <td>0.0</td>\n",
       "    </tr>\n",
       "    <tr>\n",
       "      <th>75%</th>\n",
       "      <td>32868.25</td>\n",
       "      <td>2013.0</td>\n",
       "      <td>10.0</td>\n",
       "      <td>23.0</td>\n",
       "      <td>17.25</td>\n",
       "      <td>137.0</td>\n",
       "      <td>15.0</td>\n",
       "      <td>23.0</td>\n",
       "      <td>1025.0</td>\n",
       "      <td></td>\n",
       "      <td>21.91</td>\n",
       "      <td>0.0</td>\n",
       "      <td>0.0</td>\n",
       "    </tr>\n",
       "    <tr>\n",
       "      <th>max</th>\n",
       "      <td>43824.0</td>\n",
       "      <td>2014.0</td>\n",
       "      <td>12.0</td>\n",
       "      <td>31.0</td>\n",
       "      <td>23.0</td>\n",
       "      <td>994.0</td>\n",
       "      <td>28.0</td>\n",
       "      <td>42.0</td>\n",
       "      <td>1046.0</td>\n",
       "      <td></td>\n",
       "      <td>585.6</td>\n",
       "      <td>27.0</td>\n",
       "      <td>36.0</td>\n",
       "    </tr>\n",
       "  </tbody>\n",
       "</table>\n",
       "</div>"
      ],
      "text/plain": [
       "                  No      year     month       day      hour      pm2.5  \\\n",
       "dtypes         int64     int64     int64     int64     int64    float64   \n",
       "NA-s               0         0         0         0         0       2067   \n",
       "NA%              0.0       0.0       0.0       0.0       0.0       4.72   \n",
       "count        43824.0   43824.0   43824.0   43824.0   43824.0    41757.0   \n",
       "unique                                                                    \n",
       "top                                                                       \n",
       "freq                                                                      \n",
       "mean         21912.5    2012.0  6.523549  15.72782      11.5  98.613215   \n",
       "std     12651.043435  1.413842  3.448572  8.799425  6.922266  92.050387   \n",
       "min              1.0    2010.0       1.0       1.0       0.0        0.0   \n",
       "25%         10956.75    2011.0       4.0       8.0      5.75       29.0   \n",
       "50%          21912.5    2012.0       7.0      16.0      11.5       72.0   \n",
       "75%         32868.25    2013.0      10.0      23.0     17.25      137.0   \n",
       "max          43824.0    2014.0      12.0      31.0      23.0      994.0   \n",
       "\n",
       "            DEWP       TEMP         PRES    cbwd        Iws        Is  \\\n",
       "dtypes     int64    float64      float64  object    float64     int64   \n",
       "NA-s           0          0            0       0          0         0   \n",
       "NA%          0.0        0.0          0.0     0.0        0.0       0.0   \n",
       "count    43824.0    43824.0      43824.0   43824    43824.0   43824.0   \n",
       "unique                                         4                        \n",
       "top                                           SE                        \n",
       "freq                                       15290                        \n",
       "mean    1.817246  12.448521  1016.447654           23.88914  0.052734   \n",
       "std     14.43344  12.198613    10.268698          50.010635  0.760375   \n",
       "min        -40.0      -19.0        991.0               0.45       0.0   \n",
       "25%        -10.0        2.0       1008.0               1.79       0.0   \n",
       "50%          2.0       14.0       1016.0               5.37       0.0   \n",
       "75%         15.0       23.0       1025.0              21.91       0.0   \n",
       "max         28.0       42.0       1046.0              585.6      27.0   \n",
       "\n",
       "              Ir  \n",
       "dtypes     int64  \n",
       "NA-s           0  \n",
       "NA%          0.0  \n",
       "count    43824.0  \n",
       "unique            \n",
       "top               \n",
       "freq              \n",
       "mean    0.194916  \n",
       "std     1.415867  \n",
       "min          0.0  \n",
       "25%          0.0  \n",
       "50%          0.0  \n",
       "75%          0.0  \n",
       "max         36.0  "
      ]
     },
     "execution_count": 5,
     "metadata": {},
     "output_type": "execute_result"
    }
   ],
   "source": [
    "csv_format = sniff_format(\"pollution.csv\")\n",
    "\n",
    "df = pd.read_csv(\"pollution.csv\",header=csv_format[\"header\"],dialect=csv_format[\"dialect\"])\n",
    "\n",
    "#There is a warning that would be worth investigationg, but for now, let's ignore it\n",
    "import warnings\n",
    "warnings.filterwarnings(\"ignore\")\n",
    "\n",
    "describe_full(df)"
   ]
  },
  {
   "cell_type": "code",
   "execution_count": 6,
   "metadata": {
    "ExecuteTime": {
     "end_time": "2019-05-02T06:10:14.028418Z",
     "start_time": "2019-05-02T06:10:14.018265Z"
    }
   },
   "outputs": [],
   "source": [
    "#Safety assertions to ensure, that No is as it seems an index column sorted, series\n",
    "pd.testing.assert_series_equal(df.No,df.No.sort_values())\n",
    "np.testing.assert_array_equal((df.No-df.No[0]).values, np.arange(0,df.shape[0],1))\n",
    "#Don't really need these if we decide to go for date based indexing"
   ]
  },
  {
   "cell_type": "code",
   "execution_count": 7,
   "metadata": {
    "ExecuteTime": {
     "end_time": "2019-05-02T06:10:14.236455Z",
     "start_time": "2019-05-02T06:10:14.030737Z"
    }
   },
   "outputs": [
    {
     "data": {
      "text/html": [
       "<div>\n",
       "<style scoped>\n",
       "    .dataframe tbody tr th:only-of-type {\n",
       "        vertical-align: middle;\n",
       "    }\n",
       "\n",
       "    .dataframe tbody tr th {\n",
       "        vertical-align: top;\n",
       "    }\n",
       "\n",
       "    .dataframe thead th {\n",
       "        text-align: right;\n",
       "    }\n",
       "</style>\n",
       "<table border=\"1\" class=\"dataframe\">\n",
       "  <thead>\n",
       "    <tr style=\"text-align: right;\">\n",
       "      <th></th>\n",
       "      <th>year</th>\n",
       "      <th>month</th>\n",
       "      <th>day</th>\n",
       "      <th>hour</th>\n",
       "      <th>pm2.5</th>\n",
       "      <th>DEWP</th>\n",
       "      <th>TEMP</th>\n",
       "      <th>PRES</th>\n",
       "      <th>cbwd</th>\n",
       "      <th>Iws</th>\n",
       "      <th>Is</th>\n",
       "      <th>Ir</th>\n",
       "    </tr>\n",
       "    <tr>\n",
       "      <th>date</th>\n",
       "      <th></th>\n",
       "      <th></th>\n",
       "      <th></th>\n",
       "      <th></th>\n",
       "      <th></th>\n",
       "      <th></th>\n",
       "      <th></th>\n",
       "      <th></th>\n",
       "      <th></th>\n",
       "      <th></th>\n",
       "      <th></th>\n",
       "      <th></th>\n",
       "    </tr>\n",
       "  </thead>\n",
       "  <tbody>\n",
       "    <tr>\n",
       "      <th>2010-01-01 00:00:00</th>\n",
       "      <td>2010</td>\n",
       "      <td>1</td>\n",
       "      <td>1</td>\n",
       "      <td>0</td>\n",
       "      <td>NaN</td>\n",
       "      <td>-21</td>\n",
       "      <td>-11.0</td>\n",
       "      <td>1021.0</td>\n",
       "      <td>NW</td>\n",
       "      <td>1.79</td>\n",
       "      <td>0</td>\n",
       "      <td>0</td>\n",
       "    </tr>\n",
       "    <tr>\n",
       "      <th>2010-01-01 01:00:00</th>\n",
       "      <td>2010</td>\n",
       "      <td>1</td>\n",
       "      <td>1</td>\n",
       "      <td>1</td>\n",
       "      <td>NaN</td>\n",
       "      <td>-21</td>\n",
       "      <td>-12.0</td>\n",
       "      <td>1020.0</td>\n",
       "      <td>NW</td>\n",
       "      <td>4.92</td>\n",
       "      <td>0</td>\n",
       "      <td>0</td>\n",
       "    </tr>\n",
       "    <tr>\n",
       "      <th>2010-01-01 02:00:00</th>\n",
       "      <td>2010</td>\n",
       "      <td>1</td>\n",
       "      <td>1</td>\n",
       "      <td>2</td>\n",
       "      <td>NaN</td>\n",
       "      <td>-21</td>\n",
       "      <td>-11.0</td>\n",
       "      <td>1019.0</td>\n",
       "      <td>NW</td>\n",
       "      <td>6.71</td>\n",
       "      <td>0</td>\n",
       "      <td>0</td>\n",
       "    </tr>\n",
       "    <tr>\n",
       "      <th>2010-01-01 03:00:00</th>\n",
       "      <td>2010</td>\n",
       "      <td>1</td>\n",
       "      <td>1</td>\n",
       "      <td>3</td>\n",
       "      <td>NaN</td>\n",
       "      <td>-21</td>\n",
       "      <td>-14.0</td>\n",
       "      <td>1019.0</td>\n",
       "      <td>NW</td>\n",
       "      <td>9.84</td>\n",
       "      <td>0</td>\n",
       "      <td>0</td>\n",
       "    </tr>\n",
       "    <tr>\n",
       "      <th>2010-01-01 04:00:00</th>\n",
       "      <td>2010</td>\n",
       "      <td>1</td>\n",
       "      <td>1</td>\n",
       "      <td>4</td>\n",
       "      <td>NaN</td>\n",
       "      <td>-20</td>\n",
       "      <td>-12.0</td>\n",
       "      <td>1018.0</td>\n",
       "      <td>NW</td>\n",
       "      <td>12.97</td>\n",
       "      <td>0</td>\n",
       "      <td>0</td>\n",
       "    </tr>\n",
       "    <tr>\n",
       "      <th>2010-01-01 05:00:00</th>\n",
       "      <td>2010</td>\n",
       "      <td>1</td>\n",
       "      <td>1</td>\n",
       "      <td>5</td>\n",
       "      <td>NaN</td>\n",
       "      <td>-19</td>\n",
       "      <td>-10.0</td>\n",
       "      <td>1017.0</td>\n",
       "      <td>NW</td>\n",
       "      <td>16.10</td>\n",
       "      <td>0</td>\n",
       "      <td>0</td>\n",
       "    </tr>\n",
       "    <tr>\n",
       "      <th>2010-01-01 06:00:00</th>\n",
       "      <td>2010</td>\n",
       "      <td>1</td>\n",
       "      <td>1</td>\n",
       "      <td>6</td>\n",
       "      <td>NaN</td>\n",
       "      <td>-19</td>\n",
       "      <td>-9.0</td>\n",
       "      <td>1017.0</td>\n",
       "      <td>NW</td>\n",
       "      <td>19.23</td>\n",
       "      <td>0</td>\n",
       "      <td>0</td>\n",
       "    </tr>\n",
       "    <tr>\n",
       "      <th>2010-01-01 07:00:00</th>\n",
       "      <td>2010</td>\n",
       "      <td>1</td>\n",
       "      <td>1</td>\n",
       "      <td>7</td>\n",
       "      <td>NaN</td>\n",
       "      <td>-19</td>\n",
       "      <td>-9.0</td>\n",
       "      <td>1017.0</td>\n",
       "      <td>NW</td>\n",
       "      <td>21.02</td>\n",
       "      <td>0</td>\n",
       "      <td>0</td>\n",
       "    </tr>\n",
       "    <tr>\n",
       "      <th>2010-01-01 08:00:00</th>\n",
       "      <td>2010</td>\n",
       "      <td>1</td>\n",
       "      <td>1</td>\n",
       "      <td>8</td>\n",
       "      <td>NaN</td>\n",
       "      <td>-19</td>\n",
       "      <td>-9.0</td>\n",
       "      <td>1017.0</td>\n",
       "      <td>NW</td>\n",
       "      <td>24.15</td>\n",
       "      <td>0</td>\n",
       "      <td>0</td>\n",
       "    </tr>\n",
       "    <tr>\n",
       "      <th>2010-01-01 09:00:00</th>\n",
       "      <td>2010</td>\n",
       "      <td>1</td>\n",
       "      <td>1</td>\n",
       "      <td>9</td>\n",
       "      <td>NaN</td>\n",
       "      <td>-20</td>\n",
       "      <td>-8.0</td>\n",
       "      <td>1017.0</td>\n",
       "      <td>NW</td>\n",
       "      <td>27.28</td>\n",
       "      <td>0</td>\n",
       "      <td>0</td>\n",
       "    </tr>\n",
       "  </tbody>\n",
       "</table>\n",
       "</div>"
      ],
      "text/plain": [
       "                     year  month  day  hour  pm2.5  DEWP  TEMP    PRES cbwd  \\\n",
       "date                                                                          \n",
       "2010-01-01 00:00:00  2010      1    1     0    NaN   -21 -11.0  1021.0   NW   \n",
       "2010-01-01 01:00:00  2010      1    1     1    NaN   -21 -12.0  1020.0   NW   \n",
       "2010-01-01 02:00:00  2010      1    1     2    NaN   -21 -11.0  1019.0   NW   \n",
       "2010-01-01 03:00:00  2010      1    1     3    NaN   -21 -14.0  1019.0   NW   \n",
       "2010-01-01 04:00:00  2010      1    1     4    NaN   -20 -12.0  1018.0   NW   \n",
       "2010-01-01 05:00:00  2010      1    1     5    NaN   -19 -10.0  1017.0   NW   \n",
       "2010-01-01 06:00:00  2010      1    1     6    NaN   -19  -9.0  1017.0   NW   \n",
       "2010-01-01 07:00:00  2010      1    1     7    NaN   -19  -9.0  1017.0   NW   \n",
       "2010-01-01 08:00:00  2010      1    1     8    NaN   -19  -9.0  1017.0   NW   \n",
       "2010-01-01 09:00:00  2010      1    1     9    NaN   -20  -8.0  1017.0   NW   \n",
       "\n",
       "                       Iws  Is  Ir  \n",
       "date                                \n",
       "2010-01-01 00:00:00   1.79   0   0  \n",
       "2010-01-01 01:00:00   4.92   0   0  \n",
       "2010-01-01 02:00:00   6.71   0   0  \n",
       "2010-01-01 03:00:00   9.84   0   0  \n",
       "2010-01-01 04:00:00  12.97   0   0  \n",
       "2010-01-01 05:00:00  16.10   0   0  \n",
       "2010-01-01 06:00:00  19.23   0   0  \n",
       "2010-01-01 07:00:00  21.02   0   0  \n",
       "2010-01-01 08:00:00  24.15   0   0  \n",
       "2010-01-01 09:00:00  27.28   0   0  "
      ]
     },
     "execution_count": 7,
     "metadata": {},
     "output_type": "execute_result"
    }
   ],
   "source": [
    "df.drop(\"No\",axis=1, inplace=True)\n",
    "df[\"date\"]= pd.to_datetime(df['year'].astype(str)+'-'+df['month'].astype(str)+\"-\"+df[\"day\"].astype(str)+\"T\"+df[\"hour\"].astype(str).apply(lambda x: x.zfill(2)+\":00\"))\n",
    "df.set_index(df.date, inplace=True)\n",
    "df.drop(\"date\", axis=1, inplace=True)\n",
    "df.head(10)"
   ]
  },
  {
   "cell_type": "markdown",
   "metadata": {},
   "source": [
    "## Encoding day of week\n",
    "\n",
    "We explicitly encode the day of week, since we assume that weekends and workdays behave differently."
   ]
  },
  {
   "cell_type": "code",
   "execution_count": 8,
   "metadata": {
    "ExecuteTime": {
     "end_time": "2019-05-02T06:10:14.248106Z",
     "start_time": "2019-05-02T06:10:14.238757Z"
    }
   },
   "outputs": [],
   "source": [
    "df[\"dayofweek\"]=df.index.dayofweek+1"
   ]
  },
  {
   "cell_type": "markdown",
   "metadata": {},
   "source": [
    "# Decision about NaN-s"
   ]
  },
  {
   "cell_type": "code",
   "execution_count": 9,
   "metadata": {
    "ExecuteTime": {
     "end_time": "2019-05-02T06:10:14.749501Z",
     "start_time": "2019-05-02T06:10:14.250126Z"
    }
   },
   "outputs": [
    {
     "data": {
      "text/plain": [
       "<AxesSubplot:xlabel='date'>"
      ]
     },
     "execution_count": 9,
     "metadata": {},
     "output_type": "execute_result"
    },
    {
     "data": {
      "image/png": "[encoded data removed]",
      "text/plain": [
       "<Figure size 720x504 with 1 Axes>"
      ]
     },
     "metadata": {
      "needs_background": "light"
     },
     "output_type": "display_data"
    }
   ],
   "source": [
    "fig = plt.gcf()\n",
    "fig.set_size_inches(10,7)\n",
    "df[\"pm2.5\"].isnull().astype(float).plot()"
   ]
  },
  {
   "cell_type": "code",
   "execution_count": 10,
   "metadata": {
    "ExecuteTime": {
     "end_time": "2019-05-02T06:10:14.844386Z",
     "start_time": "2019-05-02T06:10:14.751521Z"
    }
   },
   "outputs": [
    {
     "name": "stdout",
     "output_type": "stream",
     "text": [
      "1-----\n",
      "% NaN datapoints per year: date\n",
      "2010    8.268446\n",
      "2011    9.063745\n",
      "2012    5.895118\n",
      "2013    0.944918\n",
      "2014    1.143055\n",
      "Name: pm2.5, dtype: float64\n",
      "2--------------------------------\n",
      "% NaN datapoints per month: date\n",
      "1      7.173725\n",
      "2      0.326119\n",
      "3      4.611924\n",
      "4      5.726872\n",
      "5      3.075644\n",
      "6      5.726872\n",
      "7      2.001645\n",
      "8     11.477375\n",
      "9      8.010801\n",
      "10     3.939648\n",
      "11     2.827763\n",
      "12     5.055069\n",
      "Name: pm2.5, dtype: float64\n",
      "3--------------------------------\n",
      "% NaN datapoints per dayofweek: date\n",
      "0    5.757218\n",
      "1    5.596763\n",
      "2    4.591752\n",
      "3    3.809682\n",
      "4    4.070444\n",
      "5    4.977376\n",
      "6    5.882353\n",
      "Name: pm2.5, dtype: float64\n",
      "4--------------------------------\n",
      "% NaN datapoints per hour: date\n",
      "0     5.244957\n",
      "1     4.641834\n",
      "2     5.002875\n",
      "3     4.641834\n",
      "4     4.701835\n",
      "5     4.942529\n",
      "6     4.942529\n",
      "7     5.002875\n",
      "8     5.063291\n",
      "9     5.002875\n",
      "10    5.305652\n",
      "11    5.732484\n",
      "12    5.488157\n",
      "13    4.402516\n",
      "14    5.123777\n",
      "15    5.002875\n",
      "16    5.123777\n",
      "17    4.822044\n",
      "18    4.283267\n",
      "19    4.822044\n",
      "20    4.942529\n",
      "21    4.882252\n",
      "22    4.882252\n",
      "23    4.822044\n",
      "Name: pm2.5, dtype: float64\n"
     ]
    }
   ],
   "source": [
    "def isnullsum(df):\n",
    "    return df.isnull().sum()\n",
    "print(\"1-----\")\n",
    "print(\"% NaN datapoints per year:\",(df.groupby(df.index.year)[\"pm2.5\"].apply(isnullsum)/df.groupby(df.index.year)[\"pm2.5\"].count())*100.0)\n",
    "\n",
    "print(\"2--------------------------------\")\n",
    "\n",
    "\n",
    "print(\"% NaN datapoints per month:\",(df.groupby(df.index.month)[\"pm2.5\"].apply(isnullsum)/df.groupby(df.index.month)[\"pm2.5\"].count())*100.0)\n",
    "\n",
    "print(\"3--------------------------------\")\n",
    "\n",
    "print(\"% NaN datapoints per dayofweek:\",(df.groupby(df.index.dayofweek)[\"pm2.5\"].apply(isnullsum)/df.groupby(df.index.dayofweek)[\"pm2.5\"].count())*100.0)\n",
    "\n",
    "print(\"4--------------------------------\")\n",
    "print(\"% NaN datapoints per hour:\",(df.groupby(df.index.hour)[\"pm2.5\"].apply(isnullsum)/df.groupby(df.index.hour)[\"pm2.5\"].count())*100.0)\n"
   ]
  },
  {
   "cell_type": "markdown",
   "metadata": {},
   "source": [
    "After examining the NaN values in pm2.5, we see no obvious temporal pattern. This is cause for worry, since by simply dropping the rows with NaN values, we can destroy the temporal coherence of the data, hence **data imputation is desirable.**\n",
    "\n",
    "The autocorrelation charts below imply, that it is not unreasonable to take the previous value to fill NaN-s (high autocorrelation with the previous timestep)."
   ]
  },
  {
   "cell_type": "code",
   "execution_count": 11,
   "metadata": {
    "ExecuteTime": {
     "end_time": "2019-05-02T06:10:14.910399Z",
     "start_time": "2019-05-02T06:10:14.846764Z"
    }
   },
   "outputs": [
    {
     "name": "stdout",
     "output_type": "stream",
     "text": [
      "year          0\n",
      "month         0\n",
      "day           0\n",
      "hour          0\n",
      "pm2.5        24\n",
      "DEWP          0\n",
      "TEMP          0\n",
      "PRES          0\n",
      "cbwd          0\n",
      "Iws           0\n",
      "Is            0\n",
      "Ir            0\n",
      "dayofweek     0\n",
      "dtype: int64\n",
      "year         0\n",
      "month        0\n",
      "day          0\n",
      "hour         0\n",
      "pm2.5        0\n",
      "DEWP         0\n",
      "TEMP         0\n",
      "PRES         0\n",
      "cbwd         0\n",
      "Iws          0\n",
      "Is           0\n",
      "Ir           0\n",
      "dayofweek    0\n",
      "dtype: int64\n"
     ]
    }
   ],
   "source": [
    "\n",
    "df.fillna(method='ffill', inplace=True)\n",
    "\n",
    "print(df.isnull().sum())\n",
    "\n",
    "df.dropna(inplace=True)\n",
    "\n",
    "print(df.isnull().sum())\n"
   ]
  },
  {
   "cell_type": "markdown",
   "metadata": {},
   "source": [
    "# Examining autocorrelations"
   ]
  },
  {
   "cell_type": "code",
   "execution_count": 12,
   "metadata": {
    "ExecuteTime": {
     "end_time": "2019-05-02T06:10:27.534978Z",
     "start_time": "2019-05-02T06:10:14.913185Z"
    }
   },
   "outputs": [
    {
     "data": {
      "text/plain": [
       "<Figure size 432x288 with 0 Axes>"
      ]
     },
     "metadata": {},
     "output_type": "display_data"
    },
    {
     "data": {
      "image/png": "[encoded data removed]",
      "text/plain": [
       "<Figure size 432x288 with 1 Axes>"
      ]
     },
     "metadata": {
      "needs_background": "light"
     },
     "output_type": "display_data"
    },
    {
     "data": {
      "text/plain": [
       "<Figure size 432x288 with 0 Axes>"
      ]
     },
     "metadata": {},
     "output_type": "display_data"
    },
    {
     "data": {
      "image/png": "[encoded data removed]",
      "text/plain": [
       "<Figure size 432x288 with 1 Axes>"
      ]
     },
     "metadata": {
      "needs_background": "light"
     },
     "output_type": "display_data"
    },
    {
     "data": {
      "text/plain": [
       "<Figure size 432x288 with 0 Axes>"
      ]
     },
     "metadata": {},
     "output_type": "display_data"
    },
    {
     "data": {
      "image/png": "[encoded data removed]",
      "text/plain": [
       "<Figure size 432x288 with 1 Axes>"
      ]
     },
     "metadata": {
      "needs_background": "light"
     },
     "output_type": "display_data"
    },
    {
     "data": {
      "text/plain": [
       "<Figure size 432x288 with 0 Axes>"
      ]
     },
     "metadata": {},
     "output_type": "display_data"
    },
    {
     "data": {
      "image/png": "[encoded data removed]",
      "text/plain": [
       "<Figure size 432x288 with 1 Axes>"
      ]
     },
     "metadata": {
      "needs_background": "light"
     },
     "output_type": "display_data"
    },
    {
     "data": {
      "text/plain": [
       "<Figure size 432x288 with 0 Axes>"
      ]
     },
     "metadata": {},
     "output_type": "display_data"
    },
    {
     "data": {
      "image/png": "[encoded data removed]",
      "text/plain": [
       "<Figure size 432x288 with 1 Axes>"
      ]
     },
     "metadata": {
      "needs_background": "light"
     },
     "output_type": "display_data"
    },
    {
     "data": {
      "text/plain": [
       "<Figure size 432x288 with 0 Axes>"
      ]
     },
     "metadata": {},
     "output_type": "display_data"
    },
    {
     "data": {
      "image/png": "[encoded data removed]",
      "text/plain": [
       "<Figure size 432x288 with 1 Axes>"
      ]
     },
     "metadata": {
      "needs_background": "light"
     },
     "output_type": "display_data"
    },
    {
     "data": {
      "text/plain": [
       "<Figure size 432x288 with 0 Axes>"
      ]
     },
     "metadata": {},
     "output_type": "display_data"
    },
    {
     "data": {
      "image/png": "[encoded data removed]",
      "text/plain": [
       "<Figure size 432x288 with 1 Axes>"
      ]
     },
     "metadata": {
      "needs_background": "light"
     },
     "output_type": "display_data"
    }
   ],
   "source": [
    "from statsmodels.graphics.tsaplots import plot_pacf\n",
    "\n",
    "#columns = [] #use this for speedup\n",
    "columns = [\"pm2.5\",\"DEWP\",\"TEMP\",\"PRES\",\"Iws\",\"Is\",\"Ir\"]\n",
    "\n",
    "for col in columns:\n",
    "    plt.figure()\n",
    "    plot_pacf(df[col].dropna(), lags=200, zero=False)\n",
    "    \n",
    "plt.show()\n"
   ]
  },
  {
   "cell_type": "markdown",
   "metadata": {},
   "source": [
    "## What do we see?\n",
    "\n",
    "Well, the fact, that we don't see.\n",
    "\n",
    "Or more precisely: smog (and weather) is slow to move, it is extremely strongly autocorrelated with itself one-two hours before, so in order to at least be able to see some autocorrelation structure beyond this, we need to filter out the first some hours from our autocorrelation analysis.\n",
    "\n",
    "(By the way, that's why we don't stick to the prediction of the next hour as in the original \"inspiration\" blogpost. Would not be too relevant...)"
   ]
  },
  {
   "cell_type": "code",
   "execution_count": 15,
   "metadata": {
    "ExecuteTime": {
     "end_time": "2019-05-02T06:10:27.543598Z",
     "start_time": "2019-05-02T06:10:27.537175Z"
    }
   },
   "outputs": [],
   "source": [
    "from statsmodels.graphics.tsaplots import _prepare_data_corr_plot, _plot_corr\n",
    "import statsmodels.graphics.utils as utils\n",
    "from statsmodels.tsa.stattools import pacf\n",
    "\n",
    "def plot_pacf_drop(x, ax=None, lags=None, alpha=.05, method='ywadjusted',\n",
    "              use_vlines=True, title='Partial Autocorrelation', zero=True,\n",
    "              vlines_kwargs=None, drop_no=0, **kwargs):\n",
    "    \n",
    "    lags_orig=lags\n",
    "    fig, ax = utils.create_mpl_ax(ax)\n",
    "    vlines_kwargs = {} if vlines_kwargs is None else vlines_kwargs\n",
    "    lags, nlags, irregular = _prepare_data_corr_plot(x, lags, zero)\n",
    "    confint = None\n",
    "    if alpha is None:\n",
    "        acf_x = pacf(x, nlags=nlags, alpha=alpha, method=method)\n",
    "    else:\n",
    "        acf_x, confint = pacf(x, nlags=nlags, alpha=alpha, method=method)\n",
    "\n",
    "    if drop_no:\n",
    "        acf_x = acf_x[drop_no+1:]\n",
    "        confint = confint[drop_no+1:]\n",
    "        lags, nlags, irregular = _prepare_data_corr_plot(x, lags_orig-drop_no, zero)\n",
    "        \n",
    "    _plot_corr(ax, title, acf_x, confint, lags, False, use_vlines,\n",
    "               vlines_kwargs, **kwargs)\n",
    "\n",
    "    return fig"
   ]
  },
  {
   "cell_type": "code",
   "execution_count": 16,
   "metadata": {
    "ExecuteTime": {
     "end_time": "2019-05-02T06:10:43.347040Z",
     "start_time": "2019-05-02T06:10:27.546995Z"
    },
    "scrolled": false
   },
   "outputs": [
    {
     "data": {
      "text/plain": [
       "<Figure size 432x288 with 0 Axes>"
      ]
     },
     "metadata": {},
     "output_type": "display_data"
    },
    {
     "data": {
      "image/png": "[encoded data removed]",
      "text/plain": [
       "<Figure size 432x288 with 1 Axes>"
      ]
     },
     "metadata": {
      "needs_background": "light"
     },
     "output_type": "display_data"
    },
    {
     "data": {
      "text/plain": [
       "<Figure size 432x288 with 0 Axes>"
      ]
     },
     "metadata": {},
     "output_type": "display_data"
    },
    {
     "data": {
      "image/png": "[encoded data removed]",
      "text/plain": [
       "<Figure size 432x288 with 1 Axes>"
      ]
     },
     "metadata": {
      "needs_background": "light"
     },
     "output_type": "display_data"
    },
    {
     "data": {
      "text/plain": [
       "<Figure size 432x288 with 0 Axes>"
      ]
     },
     "metadata": {},
     "output_type": "display_data"
    },
    {
     "data": {
      "image/png": "[encoded data removed]",
      "text/plain": [
       "<Figure size 432x288 with 1 Axes>"
      ]
     },
     "metadata": {
      "needs_background": "light"
     },
     "output_type": "display_data"
    },
    {
     "data": {
      "text/plain": [
       "<Figure size 432x288 with 0 Axes>"
      ]
     },
     "metadata": {},
     "output_type": "display_data"
    },
    {
     "data": {
      "image/png": "[encoded data removed]",
      "text/plain": [
       "<Figure size 432x288 with 1 Axes>"
      ]
     },
     "metadata": {
      "needs_background": "light"
     },
     "output_type": "display_data"
    },
    {
     "data": {
      "text/plain": [
       "<Figure size 432x288 with 0 Axes>"
      ]
     },
     "metadata": {},
     "output_type": "display_data"
    },
    {
     "data": {
      "image/png": "[encoded data removed]",
      "text/plain": [
       "<Figure size 432x288 with 1 Axes>"
      ]
     },
     "metadata": {
      "needs_background": "light"
     },
     "output_type": "display_data"
    },
    {
     "data": {
      "text/plain": [
       "<Figure size 432x288 with 0 Axes>"
      ]
     },
     "metadata": {},
     "output_type": "display_data"
    },
    {
     "data": {
      "image/png": "[encoded data removed]",
      "text/plain": [
       "<Figure size 432x288 with 1 Axes>"
      ]
     },
     "metadata": {
      "needs_background": "light"
     },
     "output_type": "display_data"
    },
    {
     "data": {
      "text/plain": [
       "<Figure size 432x288 with 0 Axes>"
      ]
     },
     "metadata": {},
     "output_type": "display_data"
    },
    {
     "data": {
      "image/png": "[encoded data removed]",
      "text/plain": [
       "<Figure size 432x288 with 1 Axes>"
      ]
     },
     "metadata": {
      "needs_background": "light"
     },
     "output_type": "display_data"
    }
   ],
   "source": [
    "import matplotlib.pyplot as plt\n",
    "\n",
    "#columns = [] #use this for speedup\n",
    "columns = [\"pm2.5\",\"DEWP\",\"TEMP\",\"PRES\",\"Iws\",\"Is\",\"Ir\"]\n",
    "\n",
    "for col in columns:\n",
    "    plt.figure()\n",
    "    plot_pacf_drop(df[col].dropna(), lags=200, drop_no=3, zero=False)\n",
    "    \n",
    "plt.show()\n"
   ]
  },
  {
   "cell_type": "markdown",
   "metadata": {},
   "source": [
    "Studying even the filtered charts leaves us in doubt about the possible window for modeling (in case of the classical models), so we will keep 100 as the modeling window (nearly two weeks). This is a parameter that is worth empirically studying later on.\n",
    "\n",
    "It is worth mentioning, that the `pacf` charts would definitely change drastically if we would use some differencing. Since down below we decide not to, we keep it as it is."
   ]
  },
  {
   "cell_type": "markdown",
   "metadata": {},
   "source": [
    "## Seasonal decomposition and the question of trends"
   ]
  },
  {
   "cell_type": "code",
   "execution_count": 18,
   "metadata": {
    "ExecuteTime": {
     "end_time": "2019-05-02T06:10:44.756308Z",
     "start_time": "2019-05-02T06:10:43.349241Z"
    }
   },
   "outputs": [
    {
     "data": {
      "image/png": "[encoded data removed]",
      "text/plain": [
       "<Figure size 432x288 with 4 Axes>"
      ]
     },
     "metadata": {
      "needs_background": "light"
     },
     "output_type": "display_data"
    }
   ],
   "source": [
    "from statsmodels.tsa.seasonal import seasonal_decompose\n",
    "from statsmodels.tsa.tsatools import freq_to_period\n",
    "import matplotlib.pyplot as plt\n",
    "\n",
    "analysis = seasonal_decompose(df[\"pm2.5\"], period=freq_to_period(df.index.inferred_freq))\n",
    "\n",
    "analysis.plot()\n",
    "plt.show()"
   ]
  },
  {
   "cell_type": "markdown",
   "metadata": {},
   "source": [
    "Well, the default setting (infer periods - hourly) is rather uninformative, so it is maybe worth using some domain knowledge here, and use yearly frequency."
   ]
  },
  {
   "cell_type": "code",
   "execution_count": 19,
   "metadata": {
    "ExecuteTime": {
     "end_time": "2019-05-02T06:10:46.739401Z",
     "start_time": "2019-05-02T06:10:44.758196Z"
    }
   },
   "outputs": [
    {
     "data": {
      "image/png": "[encoded data removed]",
      "text/plain": [
       "<Figure size 432x288 with 4 Axes>"
      ]
     },
     "metadata": {
      "needs_background": "light"
     },
     "output_type": "display_data"
    }
   ],
   "source": [
    "analysis = seasonal_decompose(df[\"pm2.5\"], period=24*365)\n",
    "\n",
    "analysis.plot()\n",
    "plt.show()"
   ]
  },
  {
   "cell_type": "markdown",
   "metadata": {},
   "source": [
    "We do get the first impression, that there is no overarching simple trend, as well as there are non-trivial seasonal patterns. At a later stage we should investigate differencing regimes, but for now, we leave the data as is."
   ]
  },
  {
   "cell_type": "markdown",
   "metadata": {},
   "source": [
    "# Train, valid, test split - before normalization\n",
    "\n",
    "Contamination by the normalization values is a distant possibility, but let's stick to paranoid practices."
   ]
  },
  {
   "cell_type": "code",
   "execution_count": 20,
   "metadata": {
    "ExecuteTime": {
     "end_time": "2019-05-02T06:10:46.744176Z",
     "start_time": "2019-05-02T06:10:46.741242Z"
    }
   },
   "outputs": [],
   "source": [
    "VALID_AND_TEST_SIZE=0.1"
   ]
  },
  {
   "cell_type": "code",
   "execution_count": 21,
   "metadata": {
    "ExecuteTime": {
     "end_time": "2019-05-02T06:10:46.758254Z",
     "start_time": "2019-05-02T06:10:46.746022Z"
    }
   },
   "outputs": [],
   "source": [
    "from sklearn.model_selection import train_test_split\n",
    "\n",
    "X_train, X_else, y_train, y_else = train_test_split(df, df[\"pm2.5\"], test_size=VALID_AND_TEST_SIZE*2, shuffle=False)\n",
    "X_valid, X_test, y_valid, y_test = train_test_split(X_else, y_else, test_size=0.5, shuffle=False)\n"
   ]
  },
  {
   "cell_type": "markdown",
   "metadata": {},
   "source": [
    "We could have used `temporal_split` from `seglearn`, but that would have cast everything to numpy, so it was more convenient this way for now. Using `seglearn` is encouraged - if we would like to go into classical modeling."
   ]
  },
  {
   "cell_type": "markdown",
   "metadata": {
    "ExecuteTime": {
     "end_time": "2019-04-28T08:49:44.040034Z",
     "start_time": "2019-04-28T08:49:43.994879Z"
    }
   },
   "source": [
    "# Data normalization\n",
    "\n",
    "Our default assumption is to use Scikit's minmax scaler for easier learning by neural models."
   ]
  },
  {
   "cell_type": "markdown",
   "metadata": {
    "ExecuteTime": {
     "end_time": "2019-04-28T08:49:44.040034Z",
     "start_time": "2019-04-28T08:49:43.994879Z"
    }
   },
   "source": [
    "But there are some exceptions:\n",
    "\n",
    "## How to normalize dates?\n",
    "\n",
    "For the year it is more tricky, it is basically an ordinal.\n",
    "Subtracting the first year is nice, but how to handle the normalization to 0,1?\n",
    "\n",
    "We could use 2018 as a max, but **WE WOULD HAVE TO WRITE A BIG CAVEAT MESSAGE FOR DEPLOY PEOPLE!**\n",
    "\n",
    "So it should be something like  `(df.year - (df.year.min())-1)/((df.year.max()-df.year.min())*2)` (-1 is for avoiding zero, making the life of the network more easy...)\n",
    "\n",
    "For now we stick to the minmax scaler (living risky... :-)\n",
    "\n",
    "For month, day, hour default assumption is, scikit's minmax scaler could work, but we will choose a more elaborate solution from [here](https://ianlondon.github.io/blog/encoding-cyclical-features-24hour-time/). This capitalizes on the circular nature of these quasi ordinals.\n"
   ]
  },
  {
   "cell_type": "code",
   "execution_count": 22,
   "metadata": {
    "ExecuteTime": {
     "end_time": "2019-05-02T06:10:46.770740Z",
     "start_time": "2019-05-02T06:10:46.760217Z"
    }
   },
   "outputs": [],
   "source": [
    "from sklearn.preprocessing import MinMaxScaler\n",
    "import warnings\n",
    "from sklearn.exceptions import DataConversionWarning\n",
    "warnings.filterwarnings(action='ignore', category=DataConversionWarning)\n",
    "# I literally hate when a standard Scikit function throws big bunches of warnings \n",
    "# - though suppressing them is a dangerous practice. Hence this comment. \n",
    "\n",
    "def minmax_scale(df_x,series_y, normalizers=None):\n",
    "    features_to_minmax = [\"year\",\"pm2.5\",\"DEWP\",\"TEMP\",\"PRES\",\"Iws\",\"Is\",\"Ir\"]\n",
    "\n",
    "    if not normalizers:\n",
    "        normalizers = {}\n",
    "\n",
    "    for feat in features_to_minmax:\n",
    "        if feat not in normalizers:\n",
    "            normalizers[feat] = MinMaxScaler()\n",
    "            normalizers[feat].fit(df_x[feat].values.reshape(-1, 1))\n",
    "        \n",
    "        df_x[feat] = normalizers[feat].transform(df_x[feat].values.reshape(-1, 1))\n",
    "\n",
    "    series_y=normalizers[\"pm2.5\"].transform(series_y.values.reshape(-1, 1))\n",
    "\n",
    "    return df_x, series_y, normalizers"
   ]
  },
  {
   "cell_type": "code",
   "execution_count": 23,
   "metadata": {
    "ExecuteTime": {
     "end_time": "2019-05-02T06:10:48.003046Z",
     "start_time": "2019-05-02T06:10:46.773080Z"
    }
   },
   "outputs": [],
   "source": [
    "\n",
    "X_train_norm, y_train_norm, normalizers = minmax_scale(X_train, y_train)\n",
    "X_valid_norm, y_valid_norm, _ = minmax_scale(X_valid, y_valid, normalizers=normalizers)\n",
    "X_test_norm, y_test_norm, _ = minmax_scale(X_test, y_test, normalizers=normalizers)\n"
   ]
  },
  {
   "cell_type": "markdown",
   "metadata": {
    "ExecuteTime": {
     "end_time": "2019-04-28T08:49:44.040034Z",
     "start_time": "2019-04-28T08:49:43.994879Z"
    }
   },
   "source": [
    "## Encoding of ordinals\n",
    "\n",
    "The encoding of `cbwd` is interesting, since it is an ordinal again, or better to say not even that, it has a nice circular topology, so we will use the same sin-cos solution.\n",
    "\n",
    "Problem is, that there is a valid \"zero\" value, marked \"cv\" in there. We are tempted to replace that with 0."
   ]
  },
  {
   "cell_type": "code",
   "execution_count": 24,
   "metadata": {
    "ExecuteTime": {
     "end_time": "2019-05-02T06:10:48.017895Z",
     "start_time": "2019-05-02T06:10:48.006356Z"
    }
   },
   "outputs": [],
   "source": [
    "\n",
    "def encode_cyclicals(df_x):\n",
    "    #\"month\",\"day\",\"hour\", \"cdbw\", \"dayofweek\"\n",
    "    \n",
    "    DIRECTIONS = {\"N\":1.0,\"NE\":2.0, \"E\":3.0, \"SE\":4.0, \"S\":5.0, \"SW\":6.0, \"W\":7.0, \"NW\":8.0, \"cv\":np.nan}\n",
    "\n",
    "    df_x['month_sin'] = np.sin(2*np.pi*df_x.month/12)\n",
    "    df_x['month_cos'] = np.cos(2*np.pi*df_x.month/12)\n",
    "    df_x.drop('month', axis=1, inplace=True)\n",
    "    \n",
    "    df_x['day_sin'] = np.sin(2*np.pi*df_x.day/31)\n",
    "    df_x['day_cos'] = np.cos(2*np.pi*df_x.day/31)\n",
    "    df_x.drop('day', axis=1, inplace=True)\n",
    "\n",
    "    df_x['dayofweek_sin'] = np.sin(2*np.pi*df_x.dayofweek/7)\n",
    "    df_x['dayofweek_cos'] = np.cos(2*np.pi*df_x.dayofweek/7)\n",
    "    df_x.drop('dayofweek', axis=1, inplace=True)\n",
    "    \n",
    "    df_x['hour_sin'] = np.sin(2*np.pi*df_x.hour/24)\n",
    "    df_x['hour_cos'] = np.cos(2*np.pi*df_x.hour/24)\n",
    "    df_x.drop('hour', axis=1, inplace=True)\n",
    "    \n",
    "    df_x.replace({'cbwd': DIRECTIONS}, inplace=True)\n",
    "    df_x['cbwd'] = df_x['cbwd'].astype(np.float64) \n",
    "\n",
    "    df_x['cbwd_sin'] = np.sin(2.0*np.pi*df_x.cbwd/8.0)\n",
    "    df_x['cbwd_sin'].replace(np.nan, 0.0, inplace=True) #Let's handle the case with no wind specially\n",
    "    df_x['cbwd_cos'] = np.cos(2.0*np.pi*df_x.cbwd/8.0)\n",
    "    df_x['cbwd_cos'].replace(np.nan, 0.0, inplace=True) #Let's handle the case with no wind specially\n",
    "    df_x.drop('cbwd', axis=1, inplace=True)\n",
    "    \n",
    "    return df_x"
   ]
  },
  {
   "cell_type": "code",
   "execution_count": 25,
   "metadata": {
    "ExecuteTime": {
     "end_time": "2019-05-02T06:10:50.981689Z",
     "start_time": "2019-05-02T06:10:48.021082Z"
    }
   },
   "outputs": [],
   "source": [
    "X_train_norm = encode_cyclicals(X_train_norm)\n",
    "X_valid_norm = encode_cyclicals(X_valid_norm)\n",
    "X_test_norm = encode_cyclicals(X_test_norm)"
   ]
  },
  {
   "cell_type": "code",
   "execution_count": 26,
   "metadata": {
    "ExecuteTime": {
     "end_time": "2019-05-02T06:10:51.059885Z",
     "start_time": "2019-05-02T06:10:50.985222Z"
    }
   },
   "outputs": [
    {
     "data": {
      "text/html": [
       "<div>\n",
       "<style scoped>\n",
       "    .dataframe tbody tr th:only-of-type {\n",
       "        vertical-align: middle;\n",
       "    }\n",
       "\n",
       "    .dataframe tbody tr th {\n",
       "        vertical-align: top;\n",
       "    }\n",
       "\n",
       "    .dataframe thead th {\n",
       "        text-align: right;\n",
       "    }\n",
       "</style>\n",
       "<table border=\"1\" class=\"dataframe\">\n",
       "  <thead>\n",
       "    <tr style=\"text-align: right;\">\n",
       "      <th></th>\n",
       "      <th>year</th>\n",
       "      <th>pm2.5</th>\n",
       "      <th>DEWP</th>\n",
       "      <th>TEMP</th>\n",
       "      <th>PRES</th>\n",
       "      <th>Iws</th>\n",
       "      <th>Is</th>\n",
       "      <th>Ir</th>\n",
       "      <th>month_sin</th>\n",
       "      <th>month_cos</th>\n",
       "      <th>day_sin</th>\n",
       "      <th>day_cos</th>\n",
       "      <th>dayofweek_sin</th>\n",
       "      <th>dayofweek_cos</th>\n",
       "      <th>hour_sin</th>\n",
       "      <th>hour_cos</th>\n",
       "      <th>cbwd_sin</th>\n",
       "      <th>cbwd_cos</th>\n",
       "    </tr>\n",
       "    <tr>\n",
       "      <th>date</th>\n",
       "      <th></th>\n",
       "      <th></th>\n",
       "      <th></th>\n",
       "      <th></th>\n",
       "      <th></th>\n",
       "      <th></th>\n",
       "      <th></th>\n",
       "      <th></th>\n",
       "      <th></th>\n",
       "      <th></th>\n",
       "      <th></th>\n",
       "      <th></th>\n",
       "      <th></th>\n",
       "      <th></th>\n",
       "      <th></th>\n",
       "      <th></th>\n",
       "      <th></th>\n",
       "      <th></th>\n",
       "    </tr>\n",
       "  </thead>\n",
       "  <tbody>\n",
       "    <tr>\n",
       "      <th>2010-01-02 00:00:00</th>\n",
       "      <td>0.0</td>\n",
       "      <td>0.129779</td>\n",
       "      <td>0.278689</td>\n",
       "      <td>0.250000</td>\n",
       "      <td>0.527273</td>\n",
       "      <td>0.002290</td>\n",
       "      <td>0.000000</td>\n",
       "      <td>0.0</td>\n",
       "      <td>5.000000e-01</td>\n",
       "      <td>0.866025</td>\n",
       "      <td>3.943559e-01</td>\n",
       "      <td>0.918958</td>\n",
       "      <td>-0.781831</td>\n",
       "      <td>0.623490</td>\n",
       "      <td>0.000000</td>\n",
       "      <td>1.000000</td>\n",
       "      <td>1.224647e-16</td>\n",
       "      <td>-1.0</td>\n",
       "    </tr>\n",
       "    <tr>\n",
       "      <th>2010-01-02 01:00:00</th>\n",
       "      <td>0.0</td>\n",
       "      <td>0.148893</td>\n",
       "      <td>0.295082</td>\n",
       "      <td>0.250000</td>\n",
       "      <td>0.527273</td>\n",
       "      <td>0.003811</td>\n",
       "      <td>0.000000</td>\n",
       "      <td>0.0</td>\n",
       "      <td>5.000000e-01</td>\n",
       "      <td>0.866025</td>\n",
       "      <td>3.943559e-01</td>\n",
       "      <td>0.918958</td>\n",
       "      <td>-0.781831</td>\n",
       "      <td>0.623490</td>\n",
       "      <td>0.258819</td>\n",
       "      <td>0.965926</td>\n",
       "      <td>1.224647e-16</td>\n",
       "      <td>-1.0</td>\n",
       "    </tr>\n",
       "    <tr>\n",
       "      <th>2010-01-02 02:00:00</th>\n",
       "      <td>0.0</td>\n",
       "      <td>0.159960</td>\n",
       "      <td>0.360656</td>\n",
       "      <td>0.233333</td>\n",
       "      <td>0.545455</td>\n",
       "      <td>0.005332</td>\n",
       "      <td>0.000000</td>\n",
       "      <td>0.0</td>\n",
       "      <td>5.000000e-01</td>\n",
       "      <td>0.866025</td>\n",
       "      <td>3.943559e-01</td>\n",
       "      <td>0.918958</td>\n",
       "      <td>-0.781831</td>\n",
       "      <td>0.623490</td>\n",
       "      <td>0.500000</td>\n",
       "      <td>0.866025</td>\n",
       "      <td>1.224647e-16</td>\n",
       "      <td>-1.0</td>\n",
       "    </tr>\n",
       "    <tr>\n",
       "      <th>2010-01-02 03:00:00</th>\n",
       "      <td>0.0</td>\n",
       "      <td>0.182093</td>\n",
       "      <td>0.426230</td>\n",
       "      <td>0.233333</td>\n",
       "      <td>0.563636</td>\n",
       "      <td>0.008391</td>\n",
       "      <td>0.037037</td>\n",
       "      <td>0.0</td>\n",
       "      <td>5.000000e-01</td>\n",
       "      <td>0.866025</td>\n",
       "      <td>3.943559e-01</td>\n",
       "      <td>0.918958</td>\n",
       "      <td>-0.781831</td>\n",
       "      <td>0.623490</td>\n",
       "      <td>0.707107</td>\n",
       "      <td>0.707107</td>\n",
       "      <td>1.224647e-16</td>\n",
       "      <td>-1.0</td>\n",
       "    </tr>\n",
       "    <tr>\n",
       "      <th>2010-01-02 04:00:00</th>\n",
       "      <td>0.0</td>\n",
       "      <td>0.138833</td>\n",
       "      <td>0.426230</td>\n",
       "      <td>0.233333</td>\n",
       "      <td>0.563636</td>\n",
       "      <td>0.009912</td>\n",
       "      <td>0.074074</td>\n",
       "      <td>0.0</td>\n",
       "      <td>5.000000e-01</td>\n",
       "      <td>0.866025</td>\n",
       "      <td>3.943559e-01</td>\n",
       "      <td>0.918958</td>\n",
       "      <td>-0.781831</td>\n",
       "      <td>0.623490</td>\n",
       "      <td>0.866025</td>\n",
       "      <td>0.500000</td>\n",
       "      <td>1.224647e-16</td>\n",
       "      <td>-1.0</td>\n",
       "    </tr>\n",
       "    <tr>\n",
       "      <th>...</th>\n",
       "      <td>...</td>\n",
       "      <td>...</td>\n",
       "      <td>...</td>\n",
       "      <td>...</td>\n",
       "      <td>...</td>\n",
       "      <td>...</td>\n",
       "      <td>...</td>\n",
       "      <td>...</td>\n",
       "      <td>...</td>\n",
       "      <td>...</td>\n",
       "      <td>...</td>\n",
       "      <td>...</td>\n",
       "      <td>...</td>\n",
       "      <td>...</td>\n",
       "      <td>...</td>\n",
       "      <td>...</td>\n",
       "      <td>...</td>\n",
       "      <td>...</td>\n",
       "    </tr>\n",
       "    <tr>\n",
       "      <th>2013-12-31 19:00:00</th>\n",
       "      <td>1.0</td>\n",
       "      <td>0.022133</td>\n",
       "      <td>0.229508</td>\n",
       "      <td>0.433333</td>\n",
       "      <td>0.400000</td>\n",
       "      <td>0.195540</td>\n",
       "      <td>0.000000</td>\n",
       "      <td>0.0</td>\n",
       "      <td>-2.449294e-16</td>\n",
       "      <td>1.000000</td>\n",
       "      <td>-2.449294e-16</td>\n",
       "      <td>1.000000</td>\n",
       "      <td>0.974928</td>\n",
       "      <td>-0.222521</td>\n",
       "      <td>-0.965926</td>\n",
       "      <td>0.258819</td>\n",
       "      <td>-2.449294e-16</td>\n",
       "      <td>1.0</td>\n",
       "    </tr>\n",
       "    <tr>\n",
       "      <th>2013-12-31 20:00:00</th>\n",
       "      <td>1.0</td>\n",
       "      <td>0.018109</td>\n",
       "      <td>0.196721</td>\n",
       "      <td>0.433333</td>\n",
       "      <td>0.418182</td>\n",
       "      <td>0.203948</td>\n",
       "      <td>0.000000</td>\n",
       "      <td>0.0</td>\n",
       "      <td>-2.449294e-16</td>\n",
       "      <td>1.000000</td>\n",
       "      <td>-2.449294e-16</td>\n",
       "      <td>1.000000</td>\n",
       "      <td>0.974928</td>\n",
       "      <td>-0.222521</td>\n",
       "      <td>-0.866025</td>\n",
       "      <td>0.500000</td>\n",
       "      <td>-2.449294e-16</td>\n",
       "      <td>1.0</td>\n",
       "    </tr>\n",
       "    <tr>\n",
       "      <th>2013-12-31 21:00:00</th>\n",
       "      <td>1.0</td>\n",
       "      <td>0.023139</td>\n",
       "      <td>0.196721</td>\n",
       "      <td>0.433333</td>\n",
       "      <td>0.418182</td>\n",
       "      <td>0.213877</td>\n",
       "      <td>0.000000</td>\n",
       "      <td>0.0</td>\n",
       "      <td>-2.449294e-16</td>\n",
       "      <td>1.000000</td>\n",
       "      <td>-2.449294e-16</td>\n",
       "      <td>1.000000</td>\n",
       "      <td>0.974928</td>\n",
       "      <td>-0.222521</td>\n",
       "      <td>-0.707107</td>\n",
       "      <td>0.707107</td>\n",
       "      <td>-2.449294e-16</td>\n",
       "      <td>1.0</td>\n",
       "    </tr>\n",
       "    <tr>\n",
       "      <th>2013-12-31 22:00:00</th>\n",
       "      <td>1.0</td>\n",
       "      <td>0.020121</td>\n",
       "      <td>0.196721</td>\n",
       "      <td>0.416667</td>\n",
       "      <td>0.418182</td>\n",
       "      <td>0.222285</td>\n",
       "      <td>0.000000</td>\n",
       "      <td>0.0</td>\n",
       "      <td>-2.449294e-16</td>\n",
       "      <td>1.000000</td>\n",
       "      <td>-2.449294e-16</td>\n",
       "      <td>1.000000</td>\n",
       "      <td>0.974928</td>\n",
       "      <td>-0.222521</td>\n",
       "      <td>-0.500000</td>\n",
       "      <td>0.866025</td>\n",
       "      <td>-2.449294e-16</td>\n",
       "      <td>1.0</td>\n",
       "    </tr>\n",
       "    <tr>\n",
       "      <th>2013-12-31 23:00:00</th>\n",
       "      <td>1.0</td>\n",
       "      <td>0.023139</td>\n",
       "      <td>0.213115</td>\n",
       "      <td>0.433333</td>\n",
       "      <td>0.418182</td>\n",
       "      <td>0.234504</td>\n",
       "      <td>0.000000</td>\n",
       "      <td>0.0</td>\n",
       "      <td>-2.449294e-16</td>\n",
       "      <td>1.000000</td>\n",
       "      <td>-2.449294e-16</td>\n",
       "      <td>1.000000</td>\n",
       "      <td>0.974928</td>\n",
       "      <td>-0.222521</td>\n",
       "      <td>-0.258819</td>\n",
       "      <td>0.965926</td>\n",
       "      <td>-2.449294e-16</td>\n",
       "      <td>1.0</td>\n",
       "    </tr>\n",
       "  </tbody>\n",
       "</table>\n",
       "<p>35040 rows × 18 columns</p>\n",
       "</div>"
      ],
      "text/plain": [
       "                     year     pm2.5      DEWP      TEMP      PRES       Iws  \\\n",
       "date                                                                          \n",
       "2010-01-02 00:00:00   0.0  0.129779  0.278689  0.250000  0.527273  0.002290   \n",
       "2010-01-02 01:00:00   0.0  0.148893  0.295082  0.250000  0.527273  0.003811   \n",
       "2010-01-02 02:00:00   0.0  0.159960  0.360656  0.233333  0.545455  0.005332   \n",
       "2010-01-02 03:00:00   0.0  0.182093  0.426230  0.233333  0.563636  0.008391   \n",
       "2010-01-02 04:00:00   0.0  0.138833  0.426230  0.233333  0.563636  0.009912   \n",
       "...                   ...       ...       ...       ...       ...       ...   \n",
       "2013-12-31 19:00:00   1.0  0.022133  0.229508  0.433333  0.400000  0.195540   \n",
       "2013-12-31 20:00:00   1.0  0.018109  0.196721  0.433333  0.418182  0.203948   \n",
       "2013-12-31 21:00:00   1.0  0.023139  0.196721  0.433333  0.418182  0.213877   \n",
       "2013-12-31 22:00:00   1.0  0.020121  0.196721  0.416667  0.418182  0.222285   \n",
       "2013-12-31 23:00:00   1.0  0.023139  0.213115  0.433333  0.418182  0.234504   \n",
       "\n",
       "                           Is   Ir     month_sin  month_cos       day_sin  \\\n",
       "date                                                                        \n",
       "2010-01-02 00:00:00  0.000000  0.0  5.000000e-01   0.866025  3.943559e-01   \n",
       "2010-01-02 01:00:00  0.000000  0.0  5.000000e-01   0.866025  3.943559e-01   \n",
       "2010-01-02 02:00:00  0.000000  0.0  5.000000e-01   0.866025  3.943559e-01   \n",
       "2010-01-02 03:00:00  0.037037  0.0  5.000000e-01   0.866025  3.943559e-01   \n",
       "2010-01-02 04:00:00  0.074074  0.0  5.000000e-01   0.866025  3.943559e-01   \n",
       "...                       ...  ...           ...        ...           ...   \n",
       "2013-12-31 19:00:00  0.000000  0.0 -2.449294e-16   1.000000 -2.449294e-16   \n",
       "2013-12-31 20:00:00  0.000000  0.0 -2.449294e-16   1.000000 -2.449294e-16   \n",
       "2013-12-31 21:00:00  0.000000  0.0 -2.449294e-16   1.000000 -2.449294e-16   \n",
       "2013-12-31 22:00:00  0.000000  0.0 -2.449294e-16   1.000000 -2.449294e-16   \n",
       "2013-12-31 23:00:00  0.000000  0.0 -2.449294e-16   1.000000 -2.449294e-16   \n",
       "\n",
       "                      day_cos  dayofweek_sin  dayofweek_cos  hour_sin  \\\n",
       "date                                                                    \n",
       "2010-01-02 00:00:00  0.918958      -0.781831       0.623490  0.000000   \n",
       "2010-01-02 01:00:00  0.918958      -0.781831       0.623490  0.258819   \n",
       "2010-01-02 02:00:00  0.918958      -0.781831       0.623490  0.500000   \n",
       "2010-01-02 03:00:00  0.918958      -0.781831       0.623490  0.707107   \n",
       "2010-01-02 04:00:00  0.918958      -0.781831       0.623490  0.866025   \n",
       "...                       ...            ...            ...       ...   \n",
       "2013-12-31 19:00:00  1.000000       0.974928      -0.222521 -0.965926   \n",
       "2013-12-31 20:00:00  1.000000       0.974928      -0.222521 -0.866025   \n",
       "2013-12-31 21:00:00  1.000000       0.974928      -0.222521 -0.707107   \n",
       "2013-12-31 22:00:00  1.000000       0.974928      -0.222521 -0.500000   \n",
       "2013-12-31 23:00:00  1.000000       0.974928      -0.222521 -0.258819   \n",
       "\n",
       "                     hour_cos      cbwd_sin  cbwd_cos  \n",
       "date                                                   \n",
       "2010-01-02 00:00:00  1.000000  1.224647e-16      -1.0  \n",
       "2010-01-02 01:00:00  0.965926  1.224647e-16      -1.0  \n",
       "2010-01-02 02:00:00  0.866025  1.224647e-16      -1.0  \n",
       "2010-01-02 03:00:00  0.707107  1.224647e-16      -1.0  \n",
       "2010-01-02 04:00:00  0.500000  1.224647e-16      -1.0  \n",
       "...                       ...           ...       ...  \n",
       "2013-12-31 19:00:00  0.258819 -2.449294e-16       1.0  \n",
       "2013-12-31 20:00:00  0.500000 -2.449294e-16       1.0  \n",
       "2013-12-31 21:00:00  0.707107 -2.449294e-16       1.0  \n",
       "2013-12-31 22:00:00  0.866025 -2.449294e-16       1.0  \n",
       "2013-12-31 23:00:00  0.965926 -2.449294e-16       1.0  \n",
       "\n",
       "[35040 rows x 18 columns]"
      ]
     },
     "execution_count": 26,
     "metadata": {},
     "output_type": "execute_result"
    }
   ],
   "source": [
    "X_train_norm"
   ]
  },
  {
   "cell_type": "code",
   "execution_count": 27,
   "metadata": {
    "ExecuteTime": {
     "end_time": "2019-05-02T06:10:51.064770Z",
     "start_time": "2019-05-02T06:10:51.061767Z"
    }
   },
   "outputs": [],
   "source": [
    "#Just in case to ensure we did everything right\n",
    "assert all(x==np.float64 for x in list(X_train_norm.dtypes))"
   ]
  },
  {
   "cell_type": "markdown",
   "metadata": {},
   "source": [
    "It would be worth checking with some assertions that the manual normalizers work well. Let's leave it to later work."
   ]
  },
  {
   "cell_type": "markdown",
   "metadata": {},
   "source": [
    "It is also worth noting, that the normalizers should be saved and used in production."
   ]
  },
  {
   "cell_type": "markdown",
   "metadata": {},
   "source": [
    "# Creating target (y) and \"windows\" (X) for modeling\n",
    "\n",
    "By default we use the next 24 hour value of \"pm2.5\" for prediction, that is, I would like to predict what the pm2.5 will be like **at this hour 24 hours from now.**\n",
    "\n",
    "We use the quite handy **seglearn** package for this."
   ]
  },
  {
   "cell_type": "markdown",
   "metadata": {},
   "source": [
    "Because of computational reasons, we **use the window of 100 hours** to predict. Classical models would have hard time to accommodate substantially (like 5-10x) context windows, LSTM-s would suffer from the challenge of long term memory. After a basic run of modeling the next big challenge would be to investigate PACF structure more and use eg. stateful LSTM modeling to try to accommodate the large \"lookback\".   "
   ]
  },
  {
   "cell_type": "code",
   "execution_count": 28,
   "metadata": {
    "ExecuteTime": {
     "end_time": "2019-05-02T06:10:51.072470Z",
     "start_time": "2019-05-02T06:10:51.066835Z"
    }
   },
   "outputs": [],
   "source": [
    "TIME_WINDOW=100\n",
    "FORECAST_DISTANCE=24"
   ]
  },
  {
   "cell_type": "code",
   "execution_count": 29,
   "metadata": {
    "ExecuteTime": {
     "end_time": "2019-05-02T06:10:53.223440Z",
     "start_time": "2019-05-02T06:10:51.074357Z"
    }
   },
   "outputs": [],
   "source": [
    "from seglearn.transform import FeatureRep, SegmentXYForecast, last\n",
    "\n",
    "segmenter = SegmentXYForecast(width=TIME_WINDOW, step=1, y_func=last, forecast=FORECAST_DISTANCE)\n",
    "\n",
    "X_train_rolled, y_train_rolled,_=segmenter.fit_transform([X_train_norm.values],[y_train_norm.flatten()])"
   ]
  },
  {
   "cell_type": "code",
   "execution_count": 30,
   "metadata": {
    "ExecuteTime": {
     "end_time": "2019-05-02T06:10:53.230978Z",
     "start_time": "2019-05-02T06:10:53.225334Z"
    }
   },
   "outputs": [
    {
     "data": {
      "text/plain": [
       "array([[[ 0.00000000e+00,  1.29778672e-01,  2.78688525e-01, ...,\n",
       "          1.00000000e+00,  1.22464680e-16, -1.00000000e+00],\n",
       "        [ 0.00000000e+00,  1.48893360e-01,  2.95081967e-01, ...,\n",
       "          9.65925826e-01,  1.22464680e-16, -1.00000000e+00],\n",
       "        [ 0.00000000e+00,  1.59959759e-01,  3.60655738e-01, ...,\n",
       "          8.66025404e-01,  1.22464680e-16, -1.00000000e+00],\n",
       "        ...,\n",
       "        [ 0.00000000e+00,  7.74647887e-02,  1.31147541e-01, ...,\n",
       "          9.65925826e-01,  1.00000000e+00,  6.12323400e-17],\n",
       "        [ 0.00000000e+00,  5.03018109e-02,  1.14754098e-01, ...,\n",
       "          8.66025404e-01,  1.00000000e+00,  6.12323400e-17],\n",
       "        [ 0.00000000e+00,  4.42655936e-02,  1.14754098e-01, ...,\n",
       "          7.07106781e-01,  1.00000000e+00,  6.12323400e-17]]])"
      ]
     },
     "execution_count": 30,
     "metadata": {},
     "output_type": "execute_result"
    }
   ],
   "source": [
    "X_train_rolled[:1]"
   ]
  },
  {
   "cell_type": "markdown",
   "metadata": {},
   "source": [
    "# Classical modeling"
   ]
  },
  {
   "cell_type": "markdown",
   "metadata": {},
   "source": [
    "## Baseline - DummyPredictor"
   ]
  },
  {
   "cell_type": "code",
   "execution_count": 31,
   "metadata": {
    "ExecuteTime": {
     "end_time": "2019-05-02T06:10:53.242343Z",
     "start_time": "2019-05-02T06:10:53.233484Z"
    }
   },
   "outputs": [
    {
     "data": {
      "text/plain": [
       "(34917, 100, 18)"
      ]
     },
     "execution_count": 31,
     "metadata": {},
     "output_type": "execute_result"
    }
   ],
   "source": [
    "X_train_rolled.shape"
   ]
  },
  {
   "cell_type": "code",
   "execution_count": 32,
   "metadata": {
    "ExecuteTime": {
     "end_time": "2019-05-02T06:10:53.251960Z",
     "start_time": "2019-05-02T06:10:53.245289Z"
    }
   },
   "outputs": [
    {
     "data": {
      "text/plain": [
       "(34917, 1800)"
      ]
     },
     "execution_count": 32,
     "metadata": {},
     "output_type": "execute_result"
    }
   ],
   "source": [
    "shape = X_train_rolled.shape\n",
    "X_train_flattened = X_train_rolled.reshape(shape[0],shape[1]*shape[2])\n",
    "X_train_flattened.shape"
   ]
  },
  {
   "cell_type": "code",
   "execution_count": 33,
   "metadata": {
    "ExecuteTime": {
     "end_time": "2019-05-02T06:10:53.266310Z",
     "start_time": "2019-05-02T06:10:53.255422Z"
    }
   },
   "outputs": [
    {
     "data": {
      "text/html": [
       "<style>#sk-container-id-1 {color: black;background-color: white;}#sk-container-id-1 pre{padding: 0;}#sk-container-id-1 div.sk-toggleable {background-color: white;}#sk-container-id-1 label.sk-toggleable__label {cursor: pointer;display: block;width: 100%;margin-bottom: 0;padding: 0.3em;box-sizing: border-box;text-align: center;}#sk-container-id-1 label.sk-toggleable__label-arrow:before {content: \"▸\";float: left;margin-right: 0.25em;color: #696969;}#sk-container-id-1 label.sk-toggleable__label-arrow:hover:before {color: black;}#sk-container-id-1 div.sk-estimator:hover label.sk-toggleable__label-arrow:before {color: black;}#sk-container-id-1 div.sk-toggleable__content {max-height: 0;max-width: 0;overflow: hidden;text-align: left;background-color: #f0f8ff;}#sk-container-id-1 div.sk-toggleable__content pre {margin: 0.2em;color: black;border-radius: 0.25em;background-color: #f0f8ff;}#sk-container-id-1 input.sk-toggleable__control:checked~div.sk-toggleable__content {max-height: 200px;max-width: 100%;overflow: auto;}#sk-container-id-1 input.sk-toggleable__control:checked~label.sk-toggleable__label-arrow:before {content: \"▾\";}#sk-container-id-1 div.sk-estimator input.sk-toggleable__control:checked~label.sk-toggleable__label {background-color: #d4ebff;}#sk-container-id-1 div.sk-label input.sk-toggleable__control:checked~label.sk-toggleable__label {background-color: #d4ebff;}#sk-container-id-1 input.sk-hidden--visually {border: 0;clip: rect(1px 1px 1px 1px);clip: rect(1px, 1px, 1px, 1px);height: 1px;margin: -1px;overflow: hidden;padding: 0;position: absolute;width: 1px;}#sk-container-id-1 div.sk-estimator {font-family: monospace;background-color: #f0f8ff;border: 1px dotted black;border-radius: 0.25em;box-sizing: border-box;margin-bottom: 0.5em;}#sk-container-id-1 div.sk-estimator:hover {background-color: #d4ebff;}#sk-container-id-1 div.sk-parallel-item::after {content: \"\";width: 100%;border-bottom: 1px solid gray;flex-grow: 1;}#sk-container-id-1 div.sk-label:hover label.sk-toggleable__label {background-color: #d4ebff;}#sk-container-id-1 div.sk-serial::before {content: \"\";position: absolute;border-left: 1px solid gray;box-sizing: border-box;top: 0;bottom: 0;left: 50%;z-index: 0;}#sk-container-id-1 div.sk-serial {display: flex;flex-direction: column;align-items: center;background-color: white;padding-right: 0.2em;padding-left: 0.2em;position: relative;}#sk-container-id-1 div.sk-item {position: relative;z-index: 1;}#sk-container-id-1 div.sk-parallel {display: flex;align-items: stretch;justify-content: center;background-color: white;position: relative;}#sk-container-id-1 div.sk-item::before, #sk-container-id-1 div.sk-parallel-item::before {content: \"\";position: absolute;border-left: 1px solid gray;box-sizing: border-box;top: 0;bottom: 0;left: 50%;z-index: -1;}#sk-container-id-1 div.sk-parallel-item {display: flex;flex-direction: column;z-index: 1;position: relative;background-color: white;}#sk-container-id-1 div.sk-parallel-item:first-child::after {align-self: flex-end;width: 50%;}#sk-container-id-1 div.sk-parallel-item:last-child::after {align-self: flex-start;width: 50%;}#sk-container-id-1 div.sk-parallel-item:only-child::after {width: 0;}#sk-container-id-1 div.sk-dashed-wrapped {border: 1px dashed gray;margin: 0 0.4em 0.5em 0.4em;box-sizing: border-box;padding-bottom: 0.4em;background-color: white;}#sk-container-id-1 div.sk-label label {font-family: monospace;font-weight: bold;display: inline-block;line-height: 1.2em;}#sk-container-id-1 div.sk-label-container {text-align: center;}#sk-container-id-1 div.sk-container {/* jupyter's `normalize.less` sets `[hidden] { display: none; }` but bootstrap.min.css set `[hidden] { display: none !important; }` so we also need the `!important` here to be able to override the default hidden behavior on the sphinx rendered scikit-learn.org. See: https://github.com/scikit-learn/scikit-learn/issues/21755 */display: inline-block !important;position: relative;}#sk-container-id-1 div.sk-text-repr-fallback {display: none;}</style><div id=\"sk-container-id-1\" class=\"sk-top-container\"><div class=\"sk-text-repr-fallback\"><pre>DummyRegressor()</pre><b>In a Jupyter environment, please rerun this cell to show the HTML representation or trust the notebook. <br />On GitHub, the HTML representation is unable to render, please try loading this page with nbviewer.org.</b></div><div class=\"sk-container\" hidden><div class=\"sk-item\"><div class=\"sk-estimator sk-toggleable\"><input class=\"sk-toggleable__control sk-hidden--visually\" id=\"sk-estimator-id-1\" type=\"checkbox\" checked><label for=\"sk-estimator-id-1\" class=\"sk-toggleable__label sk-toggleable__label-arrow\">DummyRegressor</label><div class=\"sk-toggleable__content\"><pre>DummyRegressor()</pre></div></div></div></div></div>"
      ],
      "text/plain": [
       "DummyRegressor()"
      ]
     },
     "execution_count": 33,
     "metadata": {},
     "output_type": "execute_result"
    }
   ],
   "source": [
    "from sklearn.dummy import DummyRegressor\n",
    "\n",
    "dummy_model = DummyRegressor()\n",
    "\n",
    "dummy_model.fit(X_train_flattened, y_train_rolled)"
   ]
  },
  {
   "cell_type": "markdown",
   "metadata": {},
   "source": [
    "### Evaluation"
   ]
  },
  {
   "cell_type": "code",
   "execution_count": 34,
   "metadata": {
    "ExecuteTime": {
     "end_time": "2019-05-02T06:10:53.565113Z",
     "start_time": "2019-05-02T06:10:53.269005Z"
    }
   },
   "outputs": [],
   "source": [
    "X_valid_rolled, y_valid_rolled,_=segmenter.fit_transform([X_valid_norm.values],[y_valid_norm.flatten()])\n",
    "\n",
    "shape = X_valid_rolled.shape\n",
    "X_valid_flattened = X_valid_rolled.reshape(shape[0],shape[1]*shape[2])\n",
    "\n",
    "dummy_model_predictions = dummy_model.predict(X_valid_flattened)"
   ]
  },
  {
   "cell_type": "code",
   "execution_count": 35,
   "metadata": {
    "ExecuteTime": {
     "end_time": "2019-05-02T06:11:12.075315Z",
     "start_time": "2019-05-02T06:11:12.070621Z"
    }
   },
   "outputs": [
    {
     "name": "stdout",
     "output_type": "stream",
     "text": [
      "Root mean squared error on valid: 0.0986950073704243\n",
      "Root mean squared error on valid inverse transformed from normalization: [[98.10283733]]\n"
     ]
    }
   ],
   "source": [
    "from sklearn.metrics import mean_squared_error\n",
    "from math import sqrt\n",
    "\n",
    "rms_base = sqrt(mean_squared_error(y_valid_rolled, dummy_model_predictions))\n",
    "\n",
    "print(\"Root mean squared error on valid:\",rms_base)\n",
    "print(\"Root mean squared error on valid inverse transformed from normalization:\",normalizers[\"pm2.5\"].inverse_transform(np.array([rms_base]).reshape(1, -1)))"
   ]
  },
  {
   "cell_type": "markdown",
   "metadata": {},
   "source": [
    "## Fitting a RandomForest on raw data"
   ]
  },
  {
   "cell_type": "code",
   "execution_count": 36,
   "metadata": {
    "ExecuteTime": {
     "end_time": "2019-05-01T10:11:07.813341Z",
     "start_time": "2019-05-01T10:11:07.788679Z"
    }
   },
   "outputs": [],
   "source": [
    "from sklearn.ensemble import RandomForestRegressor\n",
    "\n",
    "N_ESTIMATORS = 30\n",
    "RANDOM_STATE = 452543634"
   ]
  },
  {
   "cell_type": "code",
   "execution_count": 37,
   "metadata": {
    "ExecuteTime": {
     "end_time": "2019-05-01T10:16:14.567716Z",
     "start_time": "2019-05-01T10:11:07.815443Z"
    }
   },
   "outputs": [
    {
     "name": "stdout",
     "output_type": "stream",
     "text": [
      "[Parallel(n_jobs=-1)]: Using backend ThreadingBackend with 8 concurrent workers.\n",
      "building tree 1 of 30building tree 2 of 30\n",
      "building tree 3 of 30\n",
      "building tree 4 of 30\n",
      "building tree 5 of 30\n",
      "\n",
      "building tree 6 of 30\n",
      "building tree 7 of 30\n",
      "building tree 8 of 30\n",
      "building tree 9 of 30\n",
      "[Parallel(n_jobs=-1)]: Done   1 tasks      | elapsed:   31.7s\n",
      "building tree 10 of 30[Parallel(n_jobs=-1)]: Done   2 tasks      | elapsed:   32.5s\n",
      "\n",
      "building tree 11 of 30[Parallel(n_jobs=-1)]: Done   3 tasks      | elapsed:   33.0s\n",
      "\n",
      "building tree 12 of 30[Parallel(n_jobs=-1)]: Done   4 tasks      | elapsed:   33.1s\n",
      "\n",
      "building tree 13 of 30[Parallel(n_jobs=-1)]: Done   5 tasks      | elapsed:   33.3s\n",
      "\n",
      "building tree 14 of 30[Parallel(n_jobs=-1)]: Done   6 tasks      | elapsed:   34.1s\n",
      "\n",
      "building tree 15 of 30[Parallel(n_jobs=-1)]: Done   7 tasks      | elapsed:   34.2s\n",
      "\n",
      "building tree 16 of 30[Parallel(n_jobs=-1)]: Done   8 tasks      | elapsed:   35.1s\n",
      "\n",
      "building tree 17 of 30[Parallel(n_jobs=-1)]: Done   9 tasks      | elapsed:  1.1min\n",
      "\n",
      "building tree 18 of 30[Parallel(n_jobs=-1)]: Done  10 tasks      | elapsed:  1.1min\n",
      "\n",
      "building tree 19 of 30[Parallel(n_jobs=-1)]: Done  11 tasks      | elapsed:  1.1min\n",
      "building tree 20 of 30\n",
      "\n",
      "[Parallel(n_jobs=-1)]: Done  12 tasks      | elapsed:  1.1min\n",
      "building tree 21 of 30[Parallel(n_jobs=-1)]: Done  13 tasks      | elapsed:  1.1min\n",
      "\n",
      "building tree 22 of 30[Parallel(n_jobs=-1)]: Done  14 tasks      | elapsed:  1.2min\n",
      "\n",
      "building tree 23 of 30[Parallel(n_jobs=-1)]: Done  15 tasks      | elapsed:  1.2min\n",
      "\n",
      "building tree 24 of 30[Parallel(n_jobs=-1)]: Done  16 out of  30 | elapsed:  1.2min remaining:  1.0min\n",
      "\n",
      "building tree 25 of 30[Parallel(n_jobs=-1)]: Done  17 out of  30 | elapsed:  1.7min remaining:  1.3min\n",
      "\n",
      "building tree 26 of 30[Parallel(n_jobs=-1)]: Done  18 out of  30 | elapsed:  1.7min remaining:  1.1min\n",
      "\n",
      "building tree 27 of 30[Parallel(n_jobs=-1)]: Done  19 out of  30 | elapsed:  1.7min remaining:   59.3s\n",
      "\n",
      "building tree 28 of 30[Parallel(n_jobs=-1)]: Done  20 out of  30 | elapsed:  1.7min remaining:   51.2s\n",
      "\n",
      "building tree 29 of 30[Parallel(n_jobs=-1)]: Done  21 out of  30 | elapsed:  1.7min remaining:   44.2s\n",
      "\n",
      "building tree 30 of 30[Parallel(n_jobs=-1)]: Done  22 out of  30 | elapsed:  1.7min remaining:   37.7s\n",
      "\n",
      "[Parallel(n_jobs=-1)]: Done  23 out of  30 | elapsed:  1.7min remaining:   31.7s\n",
      "[Parallel(n_jobs=-1)]: Done  24 out of  30 | elapsed:  1.8min remaining:   26.5s\n",
      "[Parallel(n_jobs=-1)]: Done  25 out of  30 | elapsed:  2.2min remaining:   25.9s\n",
      "[Parallel(n_jobs=-1)]: Done  26 out of  30 | elapsed:  2.2min remaining:   20.0s\n",
      "[Parallel(n_jobs=-1)]: Done  27 out of  30 | elapsed:  2.2min remaining:   14.6s\n",
      "[Parallel(n_jobs=-1)]: Done  28 out of  30 | elapsed:  2.2min remaining:    9.5s\n",
      "[Parallel(n_jobs=-1)]: Done  30 out of  30 | elapsed:  2.2min remaining:    0.0s\n",
      "[Parallel(n_jobs=-1)]: Done  30 out of  30 | elapsed:  2.2min finished\n"
     ]
    },
    {
     "data": {
      "text/html": [
       "<style>#sk-container-id-2 {color: black;background-color: white;}#sk-container-id-2 pre{padding: 0;}#sk-container-id-2 div.sk-toggleable {background-color: white;}#sk-container-id-2 label.sk-toggleable__label {cursor: pointer;display: block;width: 100%;margin-bottom: 0;padding: 0.3em;box-sizing: border-box;text-align: center;}#sk-container-id-2 label.sk-toggleable__label-arrow:before {content: \"▸\";float: left;margin-right: 0.25em;color: #696969;}#sk-container-id-2 label.sk-toggleable__label-arrow:hover:before {color: black;}#sk-container-id-2 div.sk-estimator:hover label.sk-toggleable__label-arrow:before {color: black;}#sk-container-id-2 div.sk-toggleable__content {max-height: 0;max-width: 0;overflow: hidden;text-align: left;background-color: #f0f8ff;}#sk-container-id-2 div.sk-toggleable__content pre {margin: 0.2em;color: black;border-radius: 0.25em;background-color: #f0f8ff;}#sk-container-id-2 input.sk-toggleable__control:checked~div.sk-toggleable__content {max-height: 200px;max-width: 100%;overflow: auto;}#sk-container-id-2 input.sk-toggleable__control:checked~label.sk-toggleable__label-arrow:before {content: \"▾\";}#sk-container-id-2 div.sk-estimator input.sk-toggleable__control:checked~label.sk-toggleable__label {background-color: #d4ebff;}#sk-container-id-2 div.sk-label input.sk-toggleable__control:checked~label.sk-toggleable__label {background-color: #d4ebff;}#sk-container-id-2 input.sk-hidden--visually {border: 0;clip: rect(1px 1px 1px 1px);clip: rect(1px, 1px, 1px, 1px);height: 1px;margin: -1px;overflow: hidden;padding: 0;position: absolute;width: 1px;}#sk-container-id-2 div.sk-estimator {font-family: monospace;background-color: #f0f8ff;border: 1px dotted black;border-radius: 0.25em;box-sizing: border-box;margin-bottom: 0.5em;}#sk-container-id-2 div.sk-estimator:hover {background-color: #d4ebff;}#sk-container-id-2 div.sk-parallel-item::after {content: \"\";width: 100%;border-bottom: 1px solid gray;flex-grow: 1;}#sk-container-id-2 div.sk-label:hover label.sk-toggleable__label {background-color: #d4ebff;}#sk-container-id-2 div.sk-serial::before {content: \"\";position: absolute;border-left: 1px solid gray;box-sizing: border-box;top: 0;bottom: 0;left: 50%;z-index: 0;}#sk-container-id-2 div.sk-serial {display: flex;flex-direction: column;align-items: center;background-color: white;padding-right: 0.2em;padding-left: 0.2em;position: relative;}#sk-container-id-2 div.sk-item {position: relative;z-index: 1;}#sk-container-id-2 div.sk-parallel {display: flex;align-items: stretch;justify-content: center;background-color: white;position: relative;}#sk-container-id-2 div.sk-item::before, #sk-container-id-2 div.sk-parallel-item::before {content: \"\";position: absolute;border-left: 1px solid gray;box-sizing: border-box;top: 0;bottom: 0;left: 50%;z-index: -1;}#sk-container-id-2 div.sk-parallel-item {display: flex;flex-direction: column;z-index: 1;position: relative;background-color: white;}#sk-container-id-2 div.sk-parallel-item:first-child::after {align-self: flex-end;width: 50%;}#sk-container-id-2 div.sk-parallel-item:last-child::after {align-self: flex-start;width: 50%;}#sk-container-id-2 div.sk-parallel-item:only-child::after {width: 0;}#sk-container-id-2 div.sk-dashed-wrapped {border: 1px dashed gray;margin: 0 0.4em 0.5em 0.4em;box-sizing: border-box;padding-bottom: 0.4em;background-color: white;}#sk-container-id-2 div.sk-label label {font-family: monospace;font-weight: bold;display: inline-block;line-height: 1.2em;}#sk-container-id-2 div.sk-label-container {text-align: center;}#sk-container-id-2 div.sk-container {/* jupyter's `normalize.less` sets `[hidden] { display: none; }` but bootstrap.min.css set `[hidden] { display: none !important; }` so we also need the `!important` here to be able to override the default hidden behavior on the sphinx rendered scikit-learn.org. See: https://github.com/scikit-learn/scikit-learn/issues/21755 */display: inline-block !important;position: relative;}#sk-container-id-2 div.sk-text-repr-fallback {display: none;}</style><div id=\"sk-container-id-2\" class=\"sk-top-container\"><div class=\"sk-text-repr-fallback\"><pre>RandomForestRegressor(n_estimators=30, n_jobs=-1, random_state=452543634,\n",
       "                      verbose=100)</pre><b>In a Jupyter environment, please rerun this cell to show the HTML representation or trust the notebook. <br />On GitHub, the HTML representation is unable to render, please try loading this page with nbviewer.org.</b></div><div class=\"sk-container\" hidden><div class=\"sk-item\"><div class=\"sk-estimator sk-toggleable\"><input class=\"sk-toggleable__control sk-hidden--visually\" id=\"sk-estimator-id-2\" type=\"checkbox\" checked><label for=\"sk-estimator-id-2\" class=\"sk-toggleable__label sk-toggleable__label-arrow\">RandomForestRegressor</label><div class=\"sk-toggleable__content\"><pre>RandomForestRegressor(n_estimators=30, n_jobs=-1, random_state=452543634,\n",
       "                      verbose=100)</pre></div></div></div></div></div>"
      ],
      "text/plain": [
       "RandomForestRegressor(n_estimators=30, n_jobs=-1, random_state=452543634,\n",
       "                      verbose=100)"
      ]
     },
     "execution_count": 37,
     "metadata": {},
     "output_type": "execute_result"
    }
   ],
   "source": [
    "RF_base_model = RandomForestRegressor(random_state=RANDOM_STATE, n_estimators=N_ESTIMATORS, n_jobs=-1, verbose=100)\n",
    "\n",
    "RF_base_model.fit(X_train_flattened,y_train_rolled)"
   ]
  },
  {
   "cell_type": "markdown",
   "metadata": {},
   "source": [
    "### Evaluation\n",
    "\n",
    "WARNING: This is just a basic evaluation scheme, more thorough investigation needed!"
   ]
  },
  {
   "cell_type": "code",
   "execution_count": 38,
   "metadata": {
    "ExecuteTime": {
     "end_time": "2019-05-01T10:16:14.705936Z",
     "start_time": "2019-05-01T10:16:14.570432Z"
    }
   },
   "outputs": [
    {
     "name": "stdout",
     "output_type": "stream",
     "text": [
      "[Parallel(n_jobs=8)]: Using backend ThreadingBackend with 8 concurrent workers.\n",
      "[Parallel(n_jobs=8)]: Done   1 tasks      | elapsed:    0.0s\n",
      "[Parallel(n_jobs=8)]: Done   2 tasks      | elapsed:    0.0s\n",
      "[Parallel(n_jobs=8)]: Done   3 tasks      | elapsed:    0.0s\n",
      "[Parallel(n_jobs=8)]: Done   4 tasks      | elapsed:    0.0s\n",
      "[Parallel(n_jobs=8)]: Done   5 tasks      | elapsed:    0.0s\n",
      "[Parallel(n_jobs=8)]: Done   6 tasks      | elapsed:    0.0s\n",
      "[Parallel(n_jobs=8)]: Done   7 tasks      | elapsed:    0.0s\n",
      "[Parallel(n_jobs=8)]: Done   8 tasks      | elapsed:    0.0s\n",
      "[Parallel(n_jobs=8)]: Done   9 tasks      | elapsed:    0.0s\n",
      "[Parallel(n_jobs=8)]: Done  10 tasks      | elapsed:    0.0s\n",
      "[Parallel(n_jobs=8)]: Done  11 tasks      | elapsed:    0.0s\n",
      "[Parallel(n_jobs=8)]: Done  12 tasks      | elapsed:    0.0s\n",
      "[Parallel(n_jobs=8)]: Done  13 tasks      | elapsed:    0.0s\n",
      "[Parallel(n_jobs=8)]: Done  14 tasks      | elapsed:    0.0s\n",
      "[Parallel(n_jobs=8)]: Done  15 tasks      | elapsed:    0.0s\n",
      "[Parallel(n_jobs=8)]: Done  16 out of  30 | elapsed:    0.0s remaining:    0.0s\n",
      "[Parallel(n_jobs=8)]: Done  17 out of  30 | elapsed:    0.0s remaining:    0.0s\n",
      "[Parallel(n_jobs=8)]: Done  18 out of  30 | elapsed:    0.0s remaining:    0.0s\n",
      "[Parallel(n_jobs=8)]: Done  19 out of  30 | elapsed:    0.0s remaining:    0.0s\n",
      "[Parallel(n_jobs=8)]: Done  20 out of  30 | elapsed:    0.0s remaining:    0.0s\n",
      "[Parallel(n_jobs=8)]: Done  21 out of  30 | elapsed:    0.0s remaining:    0.0s\n",
      "[Parallel(n_jobs=8)]: Done  22 out of  30 | elapsed:    0.0s remaining:    0.0s\n",
      "[Parallel(n_jobs=8)]: Done  23 out of  30 | elapsed:    0.0s remaining:    0.0s\n",
      "[Parallel(n_jobs=8)]: Done  24 out of  30 | elapsed:    0.0s remaining:    0.0s\n",
      "[Parallel(n_jobs=8)]: Done  25 out of  30 | elapsed:    0.0s remaining:    0.0s\n",
      "[Parallel(n_jobs=8)]: Done  26 out of  30 | elapsed:    0.0s remaining:    0.0s\n",
      "[Parallel(n_jobs=8)]: Done  27 out of  30 | elapsed:    0.0s remaining:    0.0s\n",
      "[Parallel(n_jobs=8)]: Done  28 out of  30 | elapsed:    0.0s remaining:    0.0s\n",
      "[Parallel(n_jobs=8)]: Done  30 out of  30 | elapsed:    0.0s remaining:    0.0s\n",
      "[Parallel(n_jobs=8)]: Done  30 out of  30 | elapsed:    0.0s finished\n"
     ]
    }
   ],
   "source": [
    "RF_base_model_predictions = RF_base_model.predict(X_valid_flattened)"
   ]
  },
  {
   "cell_type": "code",
   "execution_count": 39,
   "metadata": {
    "ExecuteTime": {
     "end_time": "2019-05-01T10:16:14.713719Z",
     "start_time": "2019-05-01T10:16:14.708266Z"
    }
   },
   "outputs": [
    {
     "name": "stdout",
     "output_type": "stream",
     "text": [
      "Root mean squared error on valid: 0.08835802709609038\n",
      "Root mean squared error on valid inverse transformed from normalization: [[87.82787893]]\n"
     ]
    }
   ],
   "source": [
    "rms_base = sqrt(mean_squared_error(y_valid_rolled, RF_base_model_predictions))\n",
    "\n",
    "print(\"Root mean squared error on valid:\",rms_base)\n",
    "print(\"Root mean squared error on valid inverse transformed from normalization:\",normalizers[\"pm2.5\"].inverse_transform(np.array([rms_base]).reshape(1, -1)))"
   ]
  },
  {
   "cell_type": "markdown",
   "metadata": {},
   "source": [
    "## Fitting a RandomForest on feature transformed data"
   ]
  },
  {
   "cell_type": "code",
   "execution_count": 40,
   "metadata": {
    "ExecuteTime": {
     "end_time": "2019-05-01T10:17:07.588970Z",
     "start_time": "2019-05-01T10:16:14.716636Z"
    }
   },
   "outputs": [
    {
     "name": "stdout",
     "output_type": "stream",
     "text": [
      "[Parallel(n_jobs=-1)]: Using backend ThreadingBackend with 8 concurrent workers.\n",
      "building tree 1 of 30\n",
      "building tree 2 of 30\n",
      "building tree 3 of 30\n",
      "building tree 4 of 30\n",
      "building tree 5 of 30\n",
      "building tree 6 of 30\n",
      "building tree 7 of 30\n",
      "building tree 8 of 30\n",
      "building tree 9 of 30[Parallel(n_jobs=-1)]: Done   1 tasks      | elapsed:    4.1s\n",
      "\n",
      "building tree 10 of 30[Parallel(n_jobs=-1)]: Done   2 tasks      | elapsed:    4.8s\n",
      "\n",
      "building tree 11 of 30[Parallel(n_jobs=-1)]: Done   3 tasks      | elapsed:    4.8s\n",
      "\n",
      "building tree 12 of 30[Parallel(n_jobs=-1)]: Done   4 tasks      | elapsed:    5.1s\n",
      "\n",
      "building tree 13 of 30[Parallel(n_jobs=-1)]: Done   5 tasks      | elapsed:    5.4s\n",
      "\n",
      "building tree 14 of 30[Parallel(n_jobs=-1)]: Done   6 tasks      | elapsed:    5.5s\n",
      "\n",
      "building tree 15 of 30[Parallel(n_jobs=-1)]: Done   7 tasks      | elapsed:    5.6s\n",
      "\n",
      "[Parallel(n_jobs=-1)]: Done   8 tasks      | elapsed:    6.0s\n",
      "building tree 16 of 30\n",
      "building tree 17 of 30[Parallel(n_jobs=-1)]: Done   9 tasks      | elapsed:    8.3s\n",
      "\n",
      "building tree 18 of 30[Parallel(n_jobs=-1)]: Done  10 tasks      | elapsed:    9.9s\n",
      "\n",
      "building tree 19 of 30[Parallel(n_jobs=-1)]: Done  11 tasks      | elapsed:   10.6s\n",
      "\n",
      "building tree 20 of 30[Parallel(n_jobs=-1)]: Done  12 tasks      | elapsed:   10.9s\n",
      "\n",
      "building tree 21 of 30[Parallel(n_jobs=-1)]: Done  13 tasks      | elapsed:   11.0s\n",
      "\n",
      "building tree 22 of 30[Parallel(n_jobs=-1)]: Done  14 tasks      | elapsed:   11.3s\n",
      "\n",
      "building tree 23 of 30[Parallel(n_jobs=-1)]: Done  15 tasks      | elapsed:   11.6s\n",
      "\n",
      "building tree 24 of 30[Parallel(n_jobs=-1)]: Done  16 out of  30 | elapsed:   11.7s remaining:   10.2s\n",
      "\n",
      "building tree 25 of 30[Parallel(n_jobs=-1)]: Done  17 out of  30 | elapsed:   12.8s remaining:    9.8s\n",
      "\n",
      "building tree 26 of 30\n",
      "[Parallel(n_jobs=-1)]: Done  18 out of  30 | elapsed:   15.6s remaining:   10.4s\n",
      "building tree 27 of 30[Parallel(n_jobs=-1)]: Done  19 out of  30 | elapsed:   16.0s remaining:    9.2s\n",
      "\n",
      "building tree 28 of 30[Parallel(n_jobs=-1)]: Done  20 out of  30 | elapsed:   16.5s remaining:    8.3s\n",
      "\n",
      "building tree 29 of 30[Parallel(n_jobs=-1)]: Done  21 out of  30 | elapsed:   16.7s remaining:    7.2s\n",
      "\n",
      "building tree 30 of 30[Parallel(n_jobs=-1)]: Done  22 out of  30 | elapsed:   17.1s remaining:    6.2s\n",
      "\n",
      "[Parallel(n_jobs=-1)]: Done  23 out of  30 | elapsed:   17.3s remaining:    5.3s\n",
      "[Parallel(n_jobs=-1)]: Done  24 out of  30 | elapsed:   17.3s remaining:    4.3s\n",
      "[Parallel(n_jobs=-1)]: Done  25 out of  30 | elapsed:   18.4s remaining:    3.7s\n",
      "[Parallel(n_jobs=-1)]: Done  26 out of  30 | elapsed:   20.7s remaining:    3.2s\n",
      "[Parallel(n_jobs=-1)]: Done  27 out of  30 | elapsed:   20.8s remaining:    2.3s\n",
      "[Parallel(n_jobs=-1)]: Done  28 out of  30 | elapsed:   21.0s remaining:    1.5s\n",
      "[Parallel(n_jobs=-1)]: Done  30 out of  30 | elapsed:   21.6s remaining:    0.0s\n",
      "[Parallel(n_jobs=-1)]: Done  30 out of  30 | elapsed:   21.6s finished\n"
     ]
    },
    {
     "data": {
      "text/html": [
       "<style>#sk-container-id-3 {color: black;background-color: white;}#sk-container-id-3 pre{padding: 0;}#sk-container-id-3 div.sk-toggleable {background-color: white;}#sk-container-id-3 label.sk-toggleable__label {cursor: pointer;display: block;width: 100%;margin-bottom: 0;padding: 0.3em;box-sizing: border-box;text-align: center;}#sk-container-id-3 label.sk-toggleable__label-arrow:before {content: \"▸\";float: left;margin-right: 0.25em;color: #696969;}#sk-container-id-3 label.sk-toggleable__label-arrow:hover:before {color: black;}#sk-container-id-3 div.sk-estimator:hover label.sk-toggleable__label-arrow:before {color: black;}#sk-container-id-3 div.sk-toggleable__content {max-height: 0;max-width: 0;overflow: hidden;text-align: left;background-color: #f0f8ff;}#sk-container-id-3 div.sk-toggleable__content pre {margin: 0.2em;color: black;border-radius: 0.25em;background-color: #f0f8ff;}#sk-container-id-3 input.sk-toggleable__control:checked~div.sk-toggleable__content {max-height: 200px;max-width: 100%;overflow: auto;}#sk-container-id-3 input.sk-toggleable__control:checked~label.sk-toggleable__label-arrow:before {content: \"▾\";}#sk-container-id-3 div.sk-estimator input.sk-toggleable__control:checked~label.sk-toggleable__label {background-color: #d4ebff;}#sk-container-id-3 div.sk-label input.sk-toggleable__control:checked~label.sk-toggleable__label {background-color: #d4ebff;}#sk-container-id-3 input.sk-hidden--visually {border: 0;clip: rect(1px 1px 1px 1px);clip: rect(1px, 1px, 1px, 1px);height: 1px;margin: -1px;overflow: hidden;padding: 0;position: absolute;width: 1px;}#sk-container-id-3 div.sk-estimator {font-family: monospace;background-color: #f0f8ff;border: 1px dotted black;border-radius: 0.25em;box-sizing: border-box;margin-bottom: 0.5em;}#sk-container-id-3 div.sk-estimator:hover {background-color: #d4ebff;}#sk-container-id-3 div.sk-parallel-item::after {content: \"\";width: 100%;border-bottom: 1px solid gray;flex-grow: 1;}#sk-container-id-3 div.sk-label:hover label.sk-toggleable__label {background-color: #d4ebff;}#sk-container-id-3 div.sk-serial::before {content: \"\";position: absolute;border-left: 1px solid gray;box-sizing: border-box;top: 0;bottom: 0;left: 50%;z-index: 0;}#sk-container-id-3 div.sk-serial {display: flex;flex-direction: column;align-items: center;background-color: white;padding-right: 0.2em;padding-left: 0.2em;position: relative;}#sk-container-id-3 div.sk-item {position: relative;z-index: 1;}#sk-container-id-3 div.sk-parallel {display: flex;align-items: stretch;justify-content: center;background-color: white;position: relative;}#sk-container-id-3 div.sk-item::before, #sk-container-id-3 div.sk-parallel-item::before {content: \"\";position: absolute;border-left: 1px solid gray;box-sizing: border-box;top: 0;bottom: 0;left: 50%;z-index: -1;}#sk-container-id-3 div.sk-parallel-item {display: flex;flex-direction: column;z-index: 1;position: relative;background-color: white;}#sk-container-id-3 div.sk-parallel-item:first-child::after {align-self: flex-end;width: 50%;}#sk-container-id-3 div.sk-parallel-item:last-child::after {align-self: flex-start;width: 50%;}#sk-container-id-3 div.sk-parallel-item:only-child::after {width: 0;}#sk-container-id-3 div.sk-dashed-wrapped {border: 1px dashed gray;margin: 0 0.4em 0.5em 0.4em;box-sizing: border-box;padding-bottom: 0.4em;background-color: white;}#sk-container-id-3 div.sk-label label {font-family: monospace;font-weight: bold;display: inline-block;line-height: 1.2em;}#sk-container-id-3 div.sk-label-container {text-align: center;}#sk-container-id-3 div.sk-container {/* jupyter's `normalize.less` sets `[hidden] { display: none; }` but bootstrap.min.css set `[hidden] { display: none !important; }` so we also need the `!important` here to be able to override the default hidden behavior on the sphinx rendered scikit-learn.org. See: https://github.com/scikit-learn/scikit-learn/issues/21755 */display: inline-block !important;position: relative;}#sk-container-id-3 div.sk-text-repr-fallback {display: none;}</style><div id=\"sk-container-id-3\" class=\"sk-top-container\"><div class=\"sk-text-repr-fallback\"><pre>RandomForestRegressor(n_estimators=30, n_jobs=-1, random_state=452543634,\n",
       "                      verbose=100)</pre><b>In a Jupyter environment, please rerun this cell to show the HTML representation or trust the notebook. <br />On GitHub, the HTML representation is unable to render, please try loading this page with nbviewer.org.</b></div><div class=\"sk-container\" hidden><div class=\"sk-item\"><div class=\"sk-estimator sk-toggleable\"><input class=\"sk-toggleable__control sk-hidden--visually\" id=\"sk-estimator-id-3\" type=\"checkbox\" checked><label for=\"sk-estimator-id-3\" class=\"sk-toggleable__label sk-toggleable__label-arrow\">RandomForestRegressor</label><div class=\"sk-toggleable__content\"><pre>RandomForestRegressor(n_estimators=30, n_jobs=-1, random_state=452543634,\n",
       "                      verbose=100)</pre></div></div></div></div></div>"
      ],
      "text/plain": [
       "RandomForestRegressor(n_estimators=30, n_jobs=-1, random_state=452543634,\n",
       "                      verbose=100)"
      ]
     },
     "execution_count": 40,
     "metadata": {},
     "output_type": "execute_result"
    }
   ],
   "source": [
    "RF_feature_model = RandomForestRegressor(random_state=RANDOM_STATE, n_estimators=N_ESTIMATORS, n_jobs=-1, verbose=100)\n",
    "\n",
    "feature_converter = FeatureRep()\n",
    "\n",
    "RF_feature_model.fit(feature_converter.fit_transform(X_train_rolled),y_train_rolled)"
   ]
  },
  {
   "cell_type": "markdown",
   "metadata": {},
   "source": [
    "### Evaluation\n",
    "\n",
    "WARNING: This is just a basic evaluation scheme, more thorough investigation needed!"
   ]
  },
  {
   "cell_type": "code",
   "execution_count": 41,
   "metadata": {
    "ExecuteTime": {
     "end_time": "2019-05-01T10:17:09.529472Z",
     "start_time": "2019-05-01T10:17:07.594586Z"
    }
   },
   "outputs": [
    {
     "name": "stdout",
     "output_type": "stream",
     "text": [
      "[Parallel(n_jobs=8)]: Using backend ThreadingBackend with 8 concurrent workers.\n",
      "[Parallel(n_jobs=8)]: Done   1 tasks      | elapsed:    0.0s\n",
      "[Parallel(n_jobs=8)]: Done   2 tasks      | elapsed:    0.0s\n",
      "[Parallel(n_jobs=8)]: Done   3 tasks      | elapsed:    0.0s\n",
      "[Parallel(n_jobs=8)]: Done   4 tasks      | elapsed:    0.0s\n",
      "[Parallel(n_jobs=8)]: Done   5 tasks      | elapsed:    0.0s\n",
      "[Parallel(n_jobs=8)]: Done   6 tasks      | elapsed:    0.0s\n",
      "[Parallel(n_jobs=8)]: Done   7 tasks      | elapsed:    0.0s\n",
      "[Parallel(n_jobs=8)]: Done   8 tasks      | elapsed:    0.0s\n",
      "[Parallel(n_jobs=8)]: Done   9 tasks      | elapsed:    0.0s\n",
      "[Parallel(n_jobs=8)]: Done  10 tasks      | elapsed:    0.0s\n",
      "[Parallel(n_jobs=8)]: Done  11 tasks      | elapsed:    0.0s\n",
      "[Parallel(n_jobs=8)]: Done  12 tasks      | elapsed:    0.0s\n",
      "[Parallel(n_jobs=8)]: Done  13 tasks      | elapsed:    0.0s\n",
      "[Parallel(n_jobs=8)]: Done  14 tasks      | elapsed:    0.0s\n",
      "[Parallel(n_jobs=8)]: Done  15 tasks      | elapsed:    0.0s\n",
      "[Parallel(n_jobs=8)]: Done  16 out of  30 | elapsed:    0.0s remaining:    0.0s\n",
      "[Parallel(n_jobs=8)]: Done  17 out of  30 | elapsed:    0.0s remaining:    0.0s\n",
      "[Parallel(n_jobs=8)]: Done  18 out of  30 | elapsed:    0.0s remaining:    0.0s\n",
      "[Parallel(n_jobs=8)]: Done  19 out of  30 | elapsed:    0.0s remaining:    0.0s\n",
      "[Parallel(n_jobs=8)]: Done  20 out of  30 | elapsed:    0.0s remaining:    0.0s\n",
      "[Parallel(n_jobs=8)]: Done  21 out of  30 | elapsed:    0.0s remaining:    0.0s\n",
      "[Parallel(n_jobs=8)]: Done  22 out of  30 | elapsed:    0.0s remaining:    0.0s\n",
      "[Parallel(n_jobs=8)]: Done  23 out of  30 | elapsed:    0.0s remaining:    0.0s\n",
      "[Parallel(n_jobs=8)]: Done  24 out of  30 | elapsed:    0.0s remaining:    0.0s\n",
      "[Parallel(n_jobs=8)]: Done  25 out of  30 | elapsed:    0.0s remaining:    0.0s\n",
      "[Parallel(n_jobs=8)]: Done  26 out of  30 | elapsed:    0.0s remaining:    0.0s\n",
      "[Parallel(n_jobs=8)]: Done  27 out of  30 | elapsed:    0.0s remaining:    0.0s\n",
      "[Parallel(n_jobs=8)]: Done  28 out of  30 | elapsed:    0.0s remaining:    0.0s\n",
      "[Parallel(n_jobs=8)]: Done  30 out of  30 | elapsed:    0.0s remaining:    0.0s\n",
      "[Parallel(n_jobs=8)]: Done  30 out of  30 | elapsed:    0.0s finished\n"
     ]
    }
   ],
   "source": [
    "X_valid_rolled, y_valid_rolled,_=segmenter.fit_transform([X_valid_norm.values],[y_valid_norm.flatten()])\n",
    "\n",
    "RF_feature_model_predictions = RF_feature_model.predict(feature_converter.transform(X_valid_rolled))"
   ]
  },
  {
   "cell_type": "code",
   "execution_count": 42,
   "metadata": {
    "ExecuteTime": {
     "end_time": "2019-05-01T10:17:09.547404Z",
     "start_time": "2019-05-01T10:17:09.535683Z"
    }
   },
   "outputs": [
    {
     "name": "stdout",
     "output_type": "stream",
     "text": [
      "Root mean squared error on valid: 0.09913531688046091\n",
      "Root mean squared error on valid inverse transformed from normalization: [[98.54050498]]\n"
     ]
    }
   ],
   "source": [
    "rms_feature = sqrt(mean_squared_error(y_valid_rolled, RF_feature_model_predictions))\n",
    "\n",
    "print(\"Root mean squared error on valid:\",rms_feature)\n",
    "print(\"Root mean squared error on valid inverse transformed from normalization:\",normalizers[\"pm2.5\"].inverse_transform(np.array([rms_feature]).reshape(1, -1)))"
   ]
  },
  {
   "cell_type": "markdown",
   "metadata": {},
   "source": [
    "(Note: In a real life scenario, I would double check if the result of check inverse_transform is what I expect to be. Most probably is, but printing out error metrics is a sensitive part, one can easily fool oneself.)"
   ]
  },
  {
   "cell_type": "markdown",
   "metadata": {},
   "source": [
    "## XGBoost for speedup"
   ]
  },
  {
   "cell_type": "code",
   "execution_count": 43,
   "metadata": {
    "ExecuteTime": {
     "end_time": "2019-05-02T06:11:13.503238Z",
     "start_time": "2019-05-02T06:11:12.626351Z"
    }
   },
   "outputs": [
    {
     "ename": "ModuleNotFoundError",
     "evalue": "No module named 'xgboost'",
     "output_type": "error",
     "traceback": [
      "\u001b[0;31m---------------------------------------------------------------------------\u001b[0m",
      "\u001b[0;31mModuleNotFoundError\u001b[0m                       Traceback (most recent call last)",
      "\u001b[0;32m/tmp/ipykernel_117789/2876475380.py\u001b[0m in \u001b[0;36m<module>\u001b[0;34m\u001b[0m\n\u001b[0;32m----> 1\u001b[0;31m \u001b[0;32mimport\u001b[0m \u001b[0mxgboost\u001b[0m \u001b[0;32mas\u001b[0m \u001b[0mxgb\u001b[0m\u001b[0;34m\u001b[0m\u001b[0;34m\u001b[0m\u001b[0m\n\u001b[0m\u001b[1;32m      2\u001b[0m \u001b[0;34m\u001b[0m\u001b[0m\n\u001b[1;32m      3\u001b[0m \u001b[0;31m# XGBoost needs it's custom data format to run quickly\u001b[0m\u001b[0;34m\u001b[0m\u001b[0;34m\u001b[0m\u001b[0;34m\u001b[0m\u001b[0m\n\u001b[1;32m      4\u001b[0m \u001b[0mdmatrix_train\u001b[0m \u001b[0;34m=\u001b[0m \u001b[0mxgb\u001b[0m\u001b[0;34m.\u001b[0m\u001b[0mDMatrix\u001b[0m\u001b[0;34m(\u001b[0m\u001b[0mdata\u001b[0m\u001b[0;34m=\u001b[0m\u001b[0mX_train_flattened\u001b[0m\u001b[0;34m,\u001b[0m\u001b[0mlabel\u001b[0m\u001b[0;34m=\u001b[0m\u001b[0my_train_rolled\u001b[0m\u001b[0;34m)\u001b[0m\u001b[0;34m\u001b[0m\u001b[0;34m\u001b[0m\u001b[0m\n\u001b[1;32m      5\u001b[0m \u001b[0mdmatrix_valid\u001b[0m \u001b[0;34m=\u001b[0m \u001b[0mxgb\u001b[0m\u001b[0;34m.\u001b[0m\u001b[0mDMatrix\u001b[0m\u001b[0;34m(\u001b[0m\u001b[0mdata\u001b[0m\u001b[0;34m=\u001b[0m\u001b[0mX_valid_flattened\u001b[0m\u001b[0;34m,\u001b[0m\u001b[0mlabel\u001b[0m\u001b[0;34m=\u001b[0m\u001b[0my_valid_rolled\u001b[0m\u001b[0;34m)\u001b[0m\u001b[0;34m\u001b[0m\u001b[0;34m\u001b[0m\u001b[0m\n",
      "\u001b[0;31mModuleNotFoundError\u001b[0m: No module named 'xgboost'"
     ]
    }
   ],
   "source": [
    "import xgboost as xgb\n",
    "\n",
    "# XGBoost needs it's custom data format to run quickly\n",
    "dmatrix_train = xgb.DMatrix(data=X_train_flattened,label=y_train_rolled)\n",
    "dmatrix_valid = xgb.DMatrix(data=X_valid_flattened,label=y_valid_rolled)"
   ]
  },
  {
   "cell_type": "code",
   "execution_count": null,
   "metadata": {
    "ExecuteTime": {
     "end_time": "2019-05-02T06:12:07.553811Z",
     "start_time": "2019-05-02T06:12:00.484242Z"
    }
   },
   "outputs": [],
   "source": [
    "params = {'objective': 'reg:linear', 'eval_metric': 'rmse', 'n_estimators': 30, 'tree_method':'gpu_hist'}\n",
    "#param['nthread'] = 4\n",
    "evallist = [(dmatrix_valid, 'eval'), (dmatrix_train, 'train')]\n",
    "\n",
    "#After some tests, it turned out to overfit after this point\n",
    "num_round = 12\n",
    "\n",
    "xg_reg = xgb.train(params, dmatrix_train, num_round, evallist)"
   ]
  },
  {
   "cell_type": "code",
   "execution_count": null,
   "metadata": {
    "ExecuteTime": {
     "end_time": "2019-05-02T06:12:10.017734Z",
     "start_time": "2019-05-02T06:12:09.999673Z"
    }
   },
   "outputs": [],
   "source": [
    "xgb_predictions = xg_reg.predict(dmatrix_valid)\n",
    "\n",
    "rms_base = sqrt(mean_squared_error(y_valid_rolled, xgb_predictions))\n",
    "\n",
    "print(\"Root mean squared error on valid:\",rms_base)\n",
    "print(\"Root mean squared error on valid inverse transformed from normalization:\",normalizers[\"pm2.5\"].inverse_transform(np.array([rms_base]).reshape(1, -1)))"
   ]
  },
  {
   "cell_type": "markdown",
   "metadata": {},
   "source": [
    "### Forcing the issue with a bit of grid search\n",
    "\n",
    "Since XGBoost fits quite quickly, especially on GPU, we can try to poke around a small grid of parameters, and see, if we can get some better results."
   ]
  },
  {
   "cell_type": "code",
   "execution_count": null,
   "metadata": {
    "ExecuteTime": {
     "end_time": "2019-05-02T07:29:21.528006Z",
     "start_time": "2019-05-02T07:24:50.767155Z"
    }
   },
   "outputs": [],
   "source": [
    "from sklearn.model_selection import ParameterSampler, ParameterGrid\n",
    "\n",
    "all_params = {\n",
    "        #'min_child_weight': [1, 5, 10],\n",
    "        #'gamma': [0.5, 1, 1.5, 2, 5],\n",
    "        #'subsample': [0.6, 0.8, 1.0],\n",
    "        #'colsample_bytree': [0.6, 0.8, 1.0],\n",
    "        #'max_depth': [3, 4, 5],\n",
    "        'n_estimators':[30,100,200,500],\n",
    "        'learning_rate':[0.01, 0.1, 0.2, 0.3],\n",
    "        'objective': ['reg:linear'],\n",
    "        'eval_metric': ['rmse'],\n",
    "        'tree_method': ['gpu_hist'],\n",
    "        }\n",
    "\n",
    "best_score = 10000.0\n",
    "run = 1\n",
    "\n",
    "evallist = [(dmatrix_valid, 'eval'), (dmatrix_train, 'train')]\n",
    "for param_sample in ParameterGrid(all_params):\n",
    "    print(\"----RUN \",run)\n",
    "    xg_reg = xgb.train(param_sample, dmatrix_train, num_round*3, evallist)\n",
    "    \n",
    "    xgb_predictions = xg_reg.predict(dmatrix_valid)\n",
    "    score = sqrt(mean_squared_error(y_valid_rolled, xgb_predictions))\n",
    "\n",
    "    if score < best_score:\n",
    "        best_score = score\n",
    "        best_model = xg_reg\n",
    "    run+=1\n",
    "\n",
    "print(\"Root mean squared error on valid:\",best_score)\n",
    "print(\"Root mean squared error on valid inverse transformed from normalization:\",normalizers[\"pm2.5\"].inverse_transform(np.array([best_score]).reshape(1, -1)))"
   ]
  },
  {
   "cell_type": "markdown",
   "metadata": {},
   "source": [
    "No, the answer is: We not get any better at first glance. We could try to exhaustively search all parameters, but that would take exorbitant amount of time and is not promising.\n",
    "\n",
    "We need to try a more sophisticated model."
   ]
  },
  {
   "cell_type": "markdown",
   "metadata": {},
   "source": [
    "# Building an LSTM model\n",
    "\n",
    "## Modeling assumptions\n",
    "\n",
    "We believe, that the time dependent structure of this dataset is complex, so we try to use LSTM models from Keras. We are not explicitly utilizing **statefulness**, that is a **major area to be investigated later on**.\n",
    "\n",
    "More information on statefulness can be found [here](https://philipperemy.github.io/keras-stateful-lstm/).\n"
   ]
  },
  {
   "cell_type": "code",
   "execution_count": null,
   "metadata": {
    "ExecuteTime": {
     "end_time": "2019-05-01T10:17:26.874550Z",
     "start_time": "2019-05-01T10:17:26.857975Z"
    }
   },
   "outputs": [],
   "source": [
    "LSTM_CELL_SIZE=100\n",
    "BATCH_SIZE = 100\n",
    "EPOCHS = 50 #overfit, 40 would be enough\n",
    "DROPOUT_RATE=0.2"
   ]
  },
  {
   "cell_type": "code",
   "execution_count": null,
   "metadata": {
    "ExecuteTime": {
     "end_time": "2019-05-01T10:28:26.279239Z",
     "start_time": "2019-05-01T10:21:38.332364Z"
    }
   },
   "outputs": [],
   "source": [
    "from tensorflow.keras import Sequential\n",
    "from tensorflow.keras.layers import Dense, Dropout, LSTM\n",
    "from tensorflow.keras import backend as be\n",
    "from tensorflow.keras.callbacks import ModelCheckpoint, LearningRateScheduler\n",
    "\n",
    "column_count=len(X_train_norm.columns)\n",
    "\n",
    "be.clear_session()\n",
    "\n",
    "model_saver = ModelCheckpoint('airpollution_model.hdf5', save_best_only=True, monitor='val_loss', mode='min')\n",
    "\n",
    "def schedule(epoch, lr):\n",
    "    if epoch%10==0:\n",
    "        print(\"Decreasing...\")\n",
    "        lr*=0.8\n",
    "    return lr\n",
    "\n",
    "lr_scheduler = LearningRateScheduler(schedule)\n",
    "\n",
    "model = Sequential()\n",
    "model.add(LSTM(LSTM_CELL_SIZE, input_shape=(TIME_WINDOW,column_count)))\n",
    "model.add(Dropout(DROPOUT_RATE))\n",
    "model.add(Dense(1))\n",
    "model.compile(loss='mean_squared_error', optimizer='adam')\n",
    "\n",
    "history = model.fit(x=X_train_rolled,y=y_train_rolled, batch_size=BATCH_SIZE, validation_data=(X_valid_rolled,y_valid_rolled), epochs=EPOCHS, verbose=1, shuffle=False, callbacks=[model_saver,lr_scheduler])"
   ]
  },
  {
   "cell_type": "code",
   "execution_count": null,
   "metadata": {
    "ExecuteTime": {
     "end_time": "2019-05-01T10:28:29.919454Z",
     "start_time": "2019-05-01T10:28:29.763545Z"
    }
   },
   "outputs": [],
   "source": [
    "plt.plot(history.history['loss'], label='train')\n",
    "plt.plot(history.history['val_loss'], label='test')\n",
    "plt.legend()\n",
    "plt.show()"
   ]
  },
  {
   "cell_type": "code",
   "execution_count": null,
   "metadata": {
    "ExecuteTime": {
     "end_time": "2019-05-01T10:28:32.599788Z",
     "start_time": "2019-05-01T10:28:32.589245Z"
    }
   },
   "outputs": [],
   "source": [
    "rms_LSTM = sqrt(min(history.history['val_loss']))\n",
    "\n",
    "print(\"Root mean squared error on valid:\",rms_LSTM)\n",
    "print(\"Root mean squared error on valid inverse transformed from normalization:\",normalizers[\"pm2.5\"].inverse_transform(np.array([rms_LSTM]).reshape(1, -1)))"
   ]
  },
  {
   "cell_type": "markdown",
   "metadata": {},
   "source": [
    "# Things that should be improved\n",
    "\n",
    "- More conclusive investigation of PACF for better time window estimate\n",
    "    - It can well be, that long windows do not add that much to the performance\n",
    "- More interesting features for XGBoost (like from [tsfresh](https://tsfresh.readthedocs.io/en/latest/)), since present features are a disaster\n",
    "- MOST IMPORTANT: **More thorough error / prediction analysis!!!**\n",
    "- LSTM with **Custom iterator with stateful model**\n",
    "- Investigation of different loss function (eg. MAE) for training. (And with it, think abut the importance of extreme values: do we think they are outliers? Are they interesing to predict?)\n",
    "- Investigation of \"teacher forcing\" for LSTM-s in Keras (if it makes sense)\n",
    "\n",
    "# Conclusion\n",
    "\n",
    "Even with decent amount of struggle, the \"dummy\" of always using the mean is very appealing, so it seems, this is not that easy of a task 24 hours in advance. Further investigation of classical as well as neural models remains open!\n"
   ]
  },
  {
   "cell_type": "markdown",
   "metadata": {},
   "source": [
    "# Final test\n",
    "\n",
    "We did not use the final test, since our investigations are not concluded yet. Remember: using it once before project \"go live\" is a good practice!"
   ]
  }
 ],
 "metadata": {
  "kernelspec": {
   "display_name": "Python 3 (ipykernel)",
   "language": "python",
   "name": "python3"
  },
  "language_info": {
   "codemirror_mode": {
    "name": "ipython",
    "version": 3
   },
   "file_extension": ".py",
   "mimetype": "text/x-python",
   "name": "python",
   "nbconvert_exporter": "python",
   "pygments_lexer": "ipython3",
   "version": "3.8.12"
  },
  "toc": {
   "base_numbering": 1,
   "nav_menu": {},
   "number_sections": true,
   "sideBar": true,
   "skip_h1_title": false,
   "title_cell": "Table of Contents",
   "title_sidebar": "Contents",
   "toc_cell": false,
   "toc_position": {},
   "toc_section_display": true,
   "toc_window_display": false
  },
  "varInspector": {
   "cols": {
    "lenName": 16,
    "lenType": 16,
    "lenVar": 40
   },
   "kernels_config": {
    "python": {
     "delete_cmd_postfix": "",
     "delete_cmd_prefix": "del ",
     "library": "var_list.py",
     "varRefreshCmd": "print(var_dic_list())"
    },
    "r": {
     "delete_cmd_postfix": ") ",
     "delete_cmd_prefix": "rm(",
     "library": "var_list.r",
     "varRefreshCmd": "cat(var_dic_list()) "
    }
   },
   "types_to_exclude": [
    "module",
    "function",
    "builtin_function_or_method",
    "instance",
    "_Feature"
   ],
   "window_display": false
  }
 },
 "nbformat": 4,
 "nbformat_minor": 2
}
